{
 "cells": [
  {
   "cell_type": "raw",
   "id": "7009af82-0a68-4f38-a819-7cdf2b6de4e2",
   "metadata": {},
   "source": [
    "Title : Tweet sentiment Analysis using Apache Spark\n",
    "Author : Yohannis K Telila\n",
    "Date : 04 July 2022"
   ]
  },
  {
   "cell_type": "code",
   "execution_count": 1,
   "id": "b7605ab5-07af-4e59-a6b2-a0166385c6e0",
   "metadata": {},
   "outputs": [],
   "source": [
    "from pyspark.sql.session import SparkSession\n",
    "from sklearn.metrics import confusion_matrix,classification_report\n",
    "import pyspark.sql.types as tp\n",
    "from pyspark.ml import Pipeline\n",
    "#from pyspark.ml.feature import StringIndexer, OneHotEncoder, VectorAssembler\n",
    "from pyspark.ml.feature import StopWordsRemover, Word2Vec, CountVectorizer\n",
    "from pyspark.ml.feature import Tokenizer as pyTokenizer\n",
    "#from pyspark.ml.feature import RegexTokenizer,StopWordsRemover,CountVectorizer,IDF, HashingTF\n",
    "from pyspark.ml.evaluation import MulticlassClassificationEvaluator\n",
    "from pyspark.ml.classification import LogisticRegression\n",
    "from  pyspark.ml.pipeline import PipelineModel  # For saving the model\n",
    "from pyspark.sql.functions import col\n",
    "import pyspark.sql.functions as F\n",
    "\n",
    "# Johnsnow nlp library\n",
    "from sparknlp.annotator import *\n",
    "from sparknlp.common import *\n",
    "from sparknlp.base import *\n",
    "\n",
    "import pyspark\n",
    "import numpy as np"
   ]
  },
  {
   "cell_type": "code",
   "execution_count": 2,
   "id": "68689221-d8b2-4aed-ae93-829a99bdfc67",
   "metadata": {},
   "outputs": [],
   "source": [
    "# Return spark data frame shape\n",
    "def spark_shape(self):\n",
    "    return (self.count(), len(self.columns))\n",
    "pyspark.sql.dataframe.DataFrame.shape = spark_shape"
   ]
  },
  {
   "cell_type": "markdown",
   "id": "c3bb883a-c88d-47a3-b68e-1e60a80157fc",
   "metadata": {
    "tags": []
   },
   "source": [
    "### Running spark"
   ]
  },
  {
   "cell_type": "code",
   "execution_count": 4,
   "id": "b2caa769",
   "metadata": {},
   "outputs": [],
   "source": [
    "#!/Users/JoeKifle/spark-3.2.1-bin-hadoop3.2/bin/spark-submit --master spark://131.114.50.200:7077 kafka-script/tweet_consumer.py"
   ]
  },
  {
   "cell_type": "code",
   "execution_count": 5,
   "id": "ff72aacf-00e4-4d93-9b4e-4512f07fd8c9",
   "metadata": {},
   "outputs": [],
   "source": [
    "#!/Users/JoeKifle/spark-3.2.1-bin-hadoop3.2/sbin/start-master.sh"
   ]
  },
  {
   "cell_type": "code",
   "execution_count": 6,
   "id": "2a6be175-a962-4eec-86fb-5a34f536d7fd",
   "metadata": {},
   "outputs": [],
   "source": [
    "#!/Users/JoeKifle/spark-3.2.1-bin-hadoop3.2/sbin/start-worker.sh spark://joetelila.local:7077"
   ]
  },
  {
   "cell_type": "code",
   "execution_count": 7,
   "id": "4309c66d-25b7-47f0-b404-878681ab4202",
   "metadata": {},
   "outputs": [],
   "source": [
    "#!/Users/JoeKifle/spark-3.2.1-bin-hadoop3.2/sbin/stop-worker.sh"
   ]
  },
  {
   "cell_type": "code",
   "execution_count": 8,
   "id": "3f129f42-f3ec-4304-8df2-e65c26eecc1f",
   "metadata": {},
   "outputs": [],
   "source": [
    "#!/Users/JoeKifle/spark-3.2.1-bin-hadoop3.2/sbin/stop-master.sh"
   ]
  },
  {
   "cell_type": "markdown",
   "id": "e232f8e9-0bfd-40fb-9912-459770b72fff",
   "metadata": {
    "tags": []
   },
   "source": [
    "### Spark Session"
   ]
  },
  {
   "cell_type": "code",
   "execution_count": 9,
   "id": "5579ff58",
   "metadata": {},
   "outputs": [
    {
     "name": "stderr",
     "output_type": "stream",
     "text": [
      "WARNING: An illegal reflective access operation has occurred\n",
      "WARNING: Illegal reflective access by org.apache.spark.unsafe.Platform (file:/home/y.telila/spark-3.2.1-bin-hadoop3.2/jars/spark-unsafe_2.12-3.2.1.jar) to constructor java.nio.DirectByteBuffer(long,int)\n",
      "WARNING: Please consider reporting this to the maintainers of org.apache.spark.unsafe.Platform\n",
      "WARNING: Use --illegal-access=warn to enable warnings of further illegal reflective access operations\n",
      "WARNING: All illegal access operations will be denied in a future release\n"
     ]
    },
    {
     "name": "stdout",
     "output_type": "stream",
     "text": [
      ":: loading settings :: url = jar:file:/home/y.telila/spark-3.2.1-bin-hadoop3.2/jars/ivy-2.5.0.jar!/org/apache/ivy/core/settings/ivysettings.xml\n"
     ]
    },
    {
     "name": "stderr",
     "output_type": "stream",
     "text": [
      "Ivy Default Cache set to: /home/y.telila/.ivy2/cache\n",
      "The jars for the packages stored in: /home/y.telila/.ivy2/jars\n",
      "com.johnsnowlabs.nlp#spark-nlp_2.12 added as a dependency\n",
      ":: resolving dependencies :: org.apache.spark#spark-submit-parent-c322de0d-2ce5-4edb-b847-86a395effb3b;1.0\n",
      "\tconfs: [default]\n",
      "\tfound com.johnsnowlabs.nlp#spark-nlp_2.12;3.4.4 in central\n",
      "\tfound com.typesafe#config;1.4.2 in central\n",
      "\tfound org.rocksdb#rocksdbjni;6.5.3 in central\n",
      "\tfound com.amazonaws#aws-java-sdk-bundle;1.11.603 in central\n",
      "\tfound com.github.universal-automata#liblevenshtein;3.0.0 in central\n",
      "\tfound com.google.code.findbugs#annotations;3.0.1 in central\n",
      "\tfound net.jcip#jcip-annotations;1.0 in central\n",
      "\tfound com.google.code.findbugs#jsr305;3.0.1 in central\n",
      "\tfound com.google.protobuf#protobuf-java-util;3.0.0-beta-3 in central\n",
      "\tfound com.google.protobuf#protobuf-java;3.0.0-beta-3 in central\n",
      "\tfound com.google.code.gson#gson;2.3 in central\n",
      "\tfound it.unimi.dsi#fastutil;7.0.12 in central\n",
      "\tfound org.projectlombok#lombok;1.16.8 in central\n",
      "\tfound org.slf4j#slf4j-api;1.7.21 in central\n",
      "\tfound com.navigamez#greex;1.0 in central\n",
      "\tfound dk.brics.automaton#automaton;1.11-8 in central\n",
      "\tfound org.json4s#json4s-ext_2.12;3.5.3 in central\n",
      "\tfound joda-time#joda-time;2.9.5 in central\n",
      "\tfound org.joda#joda-convert;1.8.1 in central\n",
      "\tfound com.johnsnowlabs.nlp#tensorflow-cpu_2.12;0.3.3 in central\n",
      ":: resolution report :: resolve 1181ms :: artifacts dl 23ms\n",
      "\t:: modules in use:\n",
      "\tcom.amazonaws#aws-java-sdk-bundle;1.11.603 from central in [default]\n",
      "\tcom.github.universal-automata#liblevenshtein;3.0.0 from central in [default]\n",
      "\tcom.google.code.findbugs#annotations;3.0.1 from central in [default]\n",
      "\tcom.google.code.findbugs#jsr305;3.0.1 from central in [default]\n",
      "\tcom.google.code.gson#gson;2.3 from central in [default]\n",
      "\tcom.google.protobuf#protobuf-java;3.0.0-beta-3 from central in [default]\n",
      "\tcom.google.protobuf#protobuf-java-util;3.0.0-beta-3 from central in [default]\n",
      "\tcom.johnsnowlabs.nlp#spark-nlp_2.12;3.4.4 from central in [default]\n",
      "\tcom.johnsnowlabs.nlp#tensorflow-cpu_2.12;0.3.3 from central in [default]\n",
      "\tcom.navigamez#greex;1.0 from central in [default]\n",
      "\tcom.typesafe#config;1.4.2 from central in [default]\n",
      "\tdk.brics.automaton#automaton;1.11-8 from central in [default]\n",
      "\tit.unimi.dsi#fastutil;7.0.12 from central in [default]\n",
      "\tjoda-time#joda-time;2.9.5 from central in [default]\n",
      "\tnet.jcip#jcip-annotations;1.0 from central in [default]\n",
      "\torg.joda#joda-convert;1.8.1 from central in [default]\n",
      "\torg.json4s#json4s-ext_2.12;3.5.3 from central in [default]\n",
      "\torg.projectlombok#lombok;1.16.8 from central in [default]\n",
      "\torg.rocksdb#rocksdbjni;6.5.3 from central in [default]\n",
      "\torg.slf4j#slf4j-api;1.7.21 from central in [default]\n",
      "\t---------------------------------------------------------------------\n",
      "\t|                  |            modules            ||   artifacts   |\n",
      "\t|       conf       | number| search|dwnlded|evicted|| number|dwnlded|\n",
      "\t---------------------------------------------------------------------\n",
      "\t|      default     |   20  |   0   |   0   |   0   ||   20  |   0   |\n",
      "\t---------------------------------------------------------------------\n",
      ":: retrieving :: org.apache.spark#spark-submit-parent-c322de0d-2ce5-4edb-b847-86a395effb3b\n",
      "\tconfs: [default]\n",
      "\t0 artifacts copied, 20 already retrieved (0kB/12ms)\n",
      "22/06/10 20:10:47 WARN NativeCodeLoader: Unable to load native-hadoop library for your platform... using builtin-java classes where applicable\n",
      "Using Spark's default log4j profile: org/apache/spark/log4j-defaults.properties\n",
      "Setting default log level to \"WARN\".\n",
      "To adjust logging level use sc.setLogLevel(newLevel). For SparkR, use setLogLevel(newLevel).\n"
     ]
    }
   ],
   "source": [
    "# dependency for spark-sql-kafka\n",
    "conf = pyspark.SparkConf()\n",
    "conf.set(\"spark.jars.packages\", \"org.apache.spark:spark-sql-kafka-0-10_2.12:3.2.1\")\n",
    "conf.set(\"spark.jars.packages\", \"com.johnsnowlabs.nlp:spark-nlp_2.12:3.4.4\")\n",
    "conf.set(\"spark.executor.memory\", \"6g\")\n",
    "\n",
    "#spark_master = \"spark://131.114.50.200:7077\"\n",
    "#spark_master = \"spark://joetelila.lan:7077\"\n",
    "spark_master = \"spark://131.114.50.200:7079\"\n",
    "#spark_master = \"spark://joetelila.local:7077\"\n",
    "#sc = pyspark.SparkContext(master=spark_master,appName=\"Hello Spark\")\n",
    "spark = SparkSession\\\n",
    "        .builder\\\n",
    "        .master(spark_master)\\\n",
    "        .appName(\"sentimentAnalysis\")\\\n",
    "        .config(conf=conf)\\\n",
    "        .getOrCreate()\n",
    "#spark._sc.setLogLevel(\"ERROR\")"
   ]
  },
  {
   "cell_type": "code",
   "execution_count": 10,
   "id": "c819d0ea",
   "metadata": {},
   "outputs": [],
   "source": [
    "spark._sc.setLogLevel(\"ERROR\")"
   ]
  },
  {
   "cell_type": "markdown",
   "id": "d0c05f9f-9d50-4cfa-887a-98112b29e4f8",
   "metadata": {
    "tags": []
   },
   "source": [
    "### Reading Data"
   ]
  },
  {
   "cell_type": "code",
   "execution_count": 11,
   "id": "da860524-7187-4b5f-af04-4bb66e146c7f",
   "metadata": {},
   "outputs": [],
   "source": [
    "# define the schema\n",
    "my_schema = tp.StructType([\n",
    "  tp.StructField(name= 'text',       dataType= tp.StringType(),   nullable= True),\n",
    "  tp.StructField(name= 'polarity',    dataType= tp.IntegerType(),  nullable= True)\n",
    "  ])"
   ]
  },
  {
   "cell_type": "code",
   "execution_count": 12,
   "id": "5f5fbbb1-a6dc-4eaf-95a8-158c5bb54fbd",
   "metadata": {},
   "outputs": [
    {
     "name": "stderr",
     "output_type": "stream",
     "text": [
      "                                                                                \r"
     ]
    }
   ],
   "source": [
    "# read the dataset.\n",
    "tweet_data = spark.read.csv('/home/y.telila/DEP/Sentiment-analysis-using-kafka-spark/data/tweets_dataset_may6_no_comma.csv',inferSchema=True, header=True)"
   ]
  },
  {
   "cell_type": "code",
   "execution_count": 13,
   "id": "8a699e64-89c9-411f-9b9e-b00dcc82c4f8",
   "metadata": {},
   "outputs": [
    {
     "data": {
      "text/plain": [
       "(182521, 2)"
      ]
     },
     "execution_count": 13,
     "metadata": {},
     "output_type": "execute_result"
    }
   ],
   "source": [
    "tweet_data.shape()"
   ]
  },
  {
   "cell_type": "code",
   "execution_count": 14,
   "id": "dc59c4e2-bba6-456c-80f3-8e07bee5d378",
   "metadata": {},
   "outputs": [
    {
     "name": "stdout",
     "output_type": "stream",
     "text": [
      "+--------------------+--------+\n",
      "|                text|polarity|\n",
      "+--------------------+--------+\n",
      "|when modi promise...|       2|\n",
      "|talk all the nons...|       0|\n",
      "|what did just say...|       1|\n",
      "|asking his suppor...|       1|\n",
      "|answer who among ...|       1|\n",
      "+--------------------+--------+\n",
      "only showing top 5 rows\n",
      "\n"
     ]
    }
   ],
   "source": [
    "tweet_data.show(5)"
   ]
  },
  {
   "cell_type": "code",
   "execution_count": 15,
   "id": "16f37d01-2025-4b8b-b72b-149941927fcb",
   "metadata": {},
   "outputs": [],
   "source": [
    "# Removing handles and links from the tweets.\n",
    "tweet_data = tweet_data.withColumn('text', F.regexp_replace('text','@[A-Za-z0-9_]+',''))\n",
    "tweet_data = tweet_data.withColumn('text', F.regexp_replace('text','https?://[^ ]+',''))\n",
    "tweet_data = tweet_data.withColumn('text', F.regexp_replace('text','www.[^ ]+',''))"
   ]
  },
  {
   "cell_type": "code",
   "execution_count": 16,
   "id": "96818e52",
   "metadata": {},
   "outputs": [
    {
     "name": "stdout",
     "output_type": "stream",
     "text": [
      "+--------------------+--------+\n",
      "|                text|polarity|\n",
      "+--------------------+--------+\n",
      "|when modi promise...|       2|\n",
      "|talk all the nons...|       0|\n",
      "|what did just say...|       1|\n",
      "|asking his suppor...|       1|\n",
      "|answer who among ...|       1|\n",
      "+--------------------+--------+\n",
      "only showing top 5 rows\n",
      "\n"
     ]
    }
   ],
   "source": [
    "tweet_data.show(5)"
   ]
  },
  {
   "cell_type": "code",
   "execution_count": 17,
   "id": "1e1a1b2c-587c-416f-b0ed-4b49f909163d",
   "metadata": {},
   "outputs": [
    {
     "name": "stdout",
     "output_type": "stream",
     "text": [
      "root\n",
      " |-- text: string (nullable = true)\n",
      " |-- polarity: integer (nullable = true)\n",
      "\n"
     ]
    }
   ],
   "source": [
    "# print the schema of the file\n",
    "tweet_data.printSchema()"
   ]
  },
  {
   "cell_type": "code",
   "execution_count": 18,
   "id": "3cc7e373-624d-44f0-8536-b107f9f2264c",
   "metadata": {},
   "outputs": [],
   "source": [
    "# dropping null columns\n",
    "tweet_data=tweet_data.na.drop()"
   ]
  },
  {
   "cell_type": "code",
   "execution_count": 19,
   "id": "e56dff17-f965-4698-a5a0-c4d46e4c9e1c",
   "metadata": {},
   "outputs": [
    {
     "name": "stderr",
     "output_type": "stream",
     "text": [
      "[Stage 7:=============================>                             (2 + 2) / 4]\r"
     ]
    },
    {
     "name": "stdout",
     "output_type": "stream",
     "text": [
      "+--------+-----+\n",
      "|polarity|count|\n",
      "+--------+-----+\n",
      "|       1|75482|\n",
      "|       0|59111|\n",
      "|       2|47736|\n",
      "+--------+-----+\n",
      "\n"
     ]
    },
    {
     "name": "stderr",
     "output_type": "stream",
     "text": [
      "                                                                                \r"
     ]
    }
   ],
   "source": [
    "# Show distribution of the polarity\n",
    "tweet_data.groupBy(\"polarity\") \\\n",
    "    .count() \\\n",
    "    .orderBy(col(\"count\").desc()) \\\n",
    "    .show()"
   ]
  },
  {
   "cell_type": "code",
   "execution_count": 20,
   "id": "7547634e-aaaf-4d8b-b465-24ab5087d384",
   "metadata": {},
   "outputs": [
    {
     "name": "stderr",
     "output_type": "stream",
     "text": [
      "                                                                                \r"
     ]
    },
    {
     "data": {
      "text/plain": [
       "(182329, 2)"
      ]
     },
     "execution_count": 20,
     "metadata": {},
     "output_type": "execute_result"
    }
   ],
   "source": [
    "tweet_data.shape()"
   ]
  },
  {
   "cell_type": "markdown",
   "id": "d2a2f757-cd8e-4438-8cf9-85c2bd65e304",
   "metadata": {
    "tags": []
   },
   "source": [
    "### 1. Logistic regression Model"
   ]
  },
  {
   "cell_type": "code",
   "execution_count": 21,
   "id": "92ff2b14-56bc-4280-b417-77dc7ba43fce",
   "metadata": {},
   "outputs": [],
   "source": [
    "# Stages For the Pipeline\n",
    "tokenizer = pyTokenizer(inputCol='text',outputCol='mytokens')\n",
    "stopwords_remover = StopWordsRemover(inputCol='mytokens',outputCol='filtered_tokens')\n",
    "word_2_vec = Word2Vec(inputCol= 'filtered_tokens', outputCol= 'w2v', vectorSize=200) #, vectorSize= 300)"
   ]
  },
  {
   "cell_type": "code",
   "execution_count": 22,
   "id": "7122fa4d-43a5-4c9c-aa01-baa877e334f0",
   "metadata": {},
   "outputs": [],
   "source": [
    "#model = LogisticRegression(featuresCol='vector',labelCol='polarity')\n",
    "model = LogisticRegression(featuresCol= 'w2v',labelCol= 'polarity') # regParam=0.008, maxIter=10000"
   ]
  },
  {
   "cell_type": "code",
   "execution_count": 23,
   "id": "eadf85d4-558b-42c8-9d52-846f12c58afe",
   "metadata": {},
   "outputs": [],
   "source": [
    "# setup the pipeline\n",
    "pipeline = Pipeline(stages= [tokenizer, stopwords_remover, word_2_vec, model])"
   ]
  },
  {
   "cell_type": "markdown",
   "id": "d4e993f6-4d4b-412e-993a-587b78e936d0",
   "metadata": {
    "tags": []
   },
   "source": [
    "#### Training model"
   ]
  },
  {
   "cell_type": "code",
   "execution_count": 25,
   "id": "8eef2b4d-932e-44eb-8e00-7d26c23385cc",
   "metadata": {},
   "outputs": [],
   "source": [
    "### Split Dataset and train\n",
    "(train_tweet,test_tweet) = tweet_data.randomSplit((0.85,0.15),seed=42)\n",
    "#pipelineFit = pipeline.fit(train_tweet)"
   ]
  },
  {
   "cell_type": "code",
   "execution_count": 22,
   "id": "bdf9e807-fc53-43c6-a3bc-ecb33405bb94",
   "metadata": {},
   "outputs": [],
   "source": [
    "#### Hyper-parameter search\n",
    "# ref: https://spark.apache.org/docs/2.3.0/ml-tuning.html"
   ]
  },
  {
   "cell_type": "code",
   "execution_count": 32,
   "id": "862e95e7-6f9d-4563-bd05-df4214605ccb",
   "metadata": {},
   "outputs": [],
   "source": [
    "# Run pipeline with ParamGridBuilder\n",
    "from pyspark.ml.tuning import TrainValidationSplit, ParamGridBuilder"
   ]
  },
  {
   "cell_type": "code",
   "execution_count": 24,
   "id": "9702bb98-928d-4dbd-93bc-e12af4dcef5e",
   "metadata": {},
   "outputs": [],
   "source": [
    "### 3 x 3 = 9 times training occurs (it takes a long time)\n",
    "# The elastic net is a regularized regression method that # linearly combines the L1 and L2 penalties of the lasso and ridge methods.\n",
    "#  np.logspace(-4, 4, 4)\n",
    "paramGrid = ParamGridBuilder() \\\n",
    " .addGrid(model.tol,[0.001, 0.0004]) \\\n",
    " .addGrid(model.threshold, [0.4,0.5,0.6]) \\\n",
    " .addGrid(model.regParam, [0.008,0.0008,0.00008]) \\\n",
    " .addGrid(model.maxIter, [1000,5000,10000]) \\\n",
    " .build()"
   ]
  },
  {
   "cell_type": "code",
   "execution_count": 25,
   "id": "1e2a3b03-01ac-41b7-877b-ce142a4301d4",
   "metadata": {},
   "outputs": [],
   "source": [
    "tvs = TrainValidationSplit(estimator=pipeline,\n",
    "                          estimatorParamMaps=paramGrid,\n",
    "                          evaluator=MulticlassClassificationEvaluator(labelCol='polarity',predictionCol='prediction',metricName='f1'),\n",
    "                          # 80% of the data will be used for training, 20% for validation.\n",
    "                          trainRatio=0.8)"
   ]
  },
  {
   "cell_type": "code",
   "execution_count": 26,
   "id": "32dc0c5d-53f5-4d00-8247-7695444e59a3",
   "metadata": {},
   "outputs": [
    {
     "name": "stderr",
     "output_type": "stream",
     "text": [
      "                                                                                \r"
     ]
    },
    {
     "name": "stdout",
     "output_type": "stream",
     "text": [
      "CPU times: user 8.17 s, sys: 1.74 s, total: 9.9 s\n",
      "Wall time: 1h 1min 32s\n"
     ]
    }
   ],
   "source": [
    "%%time\n",
    "# Run TrainValidationSplit, and choose the best set of parameters.\n",
    "model = tvs.fit(train_tweet)"
   ]
  },
  {
   "cell_type": "code",
   "execution_count": 30,
   "id": "7fdf20fc-baa1-4a9b-88ac-6a79953ad311",
   "metadata": {
    "tags": []
   },
   "outputs": [
    {
     "data": {
      "text/plain": [
       "[(0.5937511821095822,\n",
       "  {Param(parent='LogisticRegression_150ed0f15804', name='tol', doc='the convergence tolerance for iterative algorithms (>= 0).'): 0.001,\n",
       "   Param(parent='LogisticRegression_150ed0f15804', name='threshold', doc='Threshold in binary classification prediction, in range [0, 1]. If threshold and thresholds are both set, they must match.e.g. if threshold is p, then thresholds must be equal to [1-p, p].'): 0.4,\n",
       "   Param(parent='LogisticRegression_150ed0f15804', name='regParam', doc='regularization parameter (>= 0).'): 0.008,\n",
       "   Param(parent='LogisticRegression_150ed0f15804', name='maxIter', doc='max number of iterations (>= 0).'): 1000}),\n",
       " (0.5888227537054588,\n",
       "  {Param(parent='LogisticRegression_150ed0f15804', name='tol', doc='the convergence tolerance for iterative algorithms (>= 0).'): 0.001,\n",
       "   Param(parent='LogisticRegression_150ed0f15804', name='threshold', doc='Threshold in binary classification prediction, in range [0, 1]. If threshold and thresholds are both set, they must match.e.g. if threshold is p, then thresholds must be equal to [1-p, p].'): 0.4,\n",
       "   Param(parent='LogisticRegression_150ed0f15804', name='regParam', doc='regularization parameter (>= 0).'): 0.008,\n",
       "   Param(parent='LogisticRegression_150ed0f15804', name='maxIter', doc='max number of iterations (>= 0).'): 5000}),\n",
       " (0.5834490861185242,\n",
       "  {Param(parent='LogisticRegression_150ed0f15804', name='tol', doc='the convergence tolerance for iterative algorithms (>= 0).'): 0.001,\n",
       "   Param(parent='LogisticRegression_150ed0f15804', name='threshold', doc='Threshold in binary classification prediction, in range [0, 1]. If threshold and thresholds are both set, they must match.e.g. if threshold is p, then thresholds must be equal to [1-p, p].'): 0.4,\n",
       "   Param(parent='LogisticRegression_150ed0f15804', name='regParam', doc='regularization parameter (>= 0).'): 0.008,\n",
       "   Param(parent='LogisticRegression_150ed0f15804', name='maxIter', doc='max number of iterations (>= 0).'): 10000}),\n",
       " (0.591514186135273,\n",
       "  {Param(parent='LogisticRegression_150ed0f15804', name='tol', doc='the convergence tolerance for iterative algorithms (>= 0).'): 0.001,\n",
       "   Param(parent='LogisticRegression_150ed0f15804', name='threshold', doc='Threshold in binary classification prediction, in range [0, 1]. If threshold and thresholds are both set, they must match.e.g. if threshold is p, then thresholds must be equal to [1-p, p].'): 0.4,\n",
       "   Param(parent='LogisticRegression_150ed0f15804', name='regParam', doc='regularization parameter (>= 0).'): 0.0008,\n",
       "   Param(parent='LogisticRegression_150ed0f15804', name='maxIter', doc='max number of iterations (>= 0).'): 1000}),\n",
       " (0.6042657254136586,\n",
       "  {Param(parent='LogisticRegression_150ed0f15804', name='tol', doc='the convergence tolerance for iterative algorithms (>= 0).'): 0.001,\n",
       "   Param(parent='LogisticRegression_150ed0f15804', name='threshold', doc='Threshold in binary classification prediction, in range [0, 1]. If threshold and thresholds are both set, they must match.e.g. if threshold is p, then thresholds must be equal to [1-p, p].'): 0.4,\n",
       "   Param(parent='LogisticRegression_150ed0f15804', name='regParam', doc='regularization parameter (>= 0).'): 0.0008,\n",
       "   Param(parent='LogisticRegression_150ed0f15804', name='maxIter', doc='max number of iterations (>= 0).'): 5000}),\n",
       " (0.6026951422218608,\n",
       "  {Param(parent='LogisticRegression_150ed0f15804', name='tol', doc='the convergence tolerance for iterative algorithms (>= 0).'): 0.001,\n",
       "   Param(parent='LogisticRegression_150ed0f15804', name='threshold', doc='Threshold in binary classification prediction, in range [0, 1]. If threshold and thresholds are both set, they must match.e.g. if threshold is p, then thresholds must be equal to [1-p, p].'): 0.4,\n",
       "   Param(parent='LogisticRegression_150ed0f15804', name='regParam', doc='regularization parameter (>= 0).'): 0.0008,\n",
       "   Param(parent='LogisticRegression_150ed0f15804', name='maxIter', doc='max number of iterations (>= 0).'): 10000}),\n",
       " (0.6091774492559984,\n",
       "  {Param(parent='LogisticRegression_150ed0f15804', name='tol', doc='the convergence tolerance for iterative algorithms (>= 0).'): 0.001,\n",
       "   Param(parent='LogisticRegression_150ed0f15804', name='threshold', doc='Threshold in binary classification prediction, in range [0, 1]. If threshold and thresholds are both set, they must match.e.g. if threshold is p, then thresholds must be equal to [1-p, p].'): 0.4,\n",
       "   Param(parent='LogisticRegression_150ed0f15804', name='regParam', doc='regularization parameter (>= 0).'): 8e-05,\n",
       "   Param(parent='LogisticRegression_150ed0f15804', name='maxIter', doc='max number of iterations (>= 0).'): 1000}),\n",
       " (0.6112373669407907,\n",
       "  {Param(parent='LogisticRegression_150ed0f15804', name='tol', doc='the convergence tolerance for iterative algorithms (>= 0).'): 0.001,\n",
       "   Param(parent='LogisticRegression_150ed0f15804', name='threshold', doc='Threshold in binary classification prediction, in range [0, 1]. If threshold and thresholds are both set, they must match.e.g. if threshold is p, then thresholds must be equal to [1-p, p].'): 0.4,\n",
       "   Param(parent='LogisticRegression_150ed0f15804', name='regParam', doc='regularization parameter (>= 0).'): 8e-05,\n",
       "   Param(parent='LogisticRegression_150ed0f15804', name='maxIter', doc='max number of iterations (>= 0).'): 5000}),\n",
       " (0.6033323662016854,\n",
       "  {Param(parent='LogisticRegression_150ed0f15804', name='tol', doc='the convergence tolerance for iterative algorithms (>= 0).'): 0.001,\n",
       "   Param(parent='LogisticRegression_150ed0f15804', name='threshold', doc='Threshold in binary classification prediction, in range [0, 1]. If threshold and thresholds are both set, they must match.e.g. if threshold is p, then thresholds must be equal to [1-p, p].'): 0.4,\n",
       "   Param(parent='LogisticRegression_150ed0f15804', name='regParam', doc='regularization parameter (>= 0).'): 8e-05,\n",
       "   Param(parent='LogisticRegression_150ed0f15804', name='maxIter', doc='max number of iterations (>= 0).'): 10000}),\n",
       " (0.5885313808782303,\n",
       "  {Param(parent='LogisticRegression_150ed0f15804', name='tol', doc='the convergence tolerance for iterative algorithms (>= 0).'): 0.001,\n",
       "   Param(parent='LogisticRegression_150ed0f15804', name='threshold', doc='Threshold in binary classification prediction, in range [0, 1]. If threshold and thresholds are both set, they must match.e.g. if threshold is p, then thresholds must be equal to [1-p, p].'): 0.5,\n",
       "   Param(parent='LogisticRegression_150ed0f15804', name='regParam', doc='regularization parameter (>= 0).'): 0.008,\n",
       "   Param(parent='LogisticRegression_150ed0f15804', name='maxIter', doc='max number of iterations (>= 0).'): 1000}),\n",
       " (0.5926198682320466,\n",
       "  {Param(parent='LogisticRegression_150ed0f15804', name='tol', doc='the convergence tolerance for iterative algorithms (>= 0).'): 0.001,\n",
       "   Param(parent='LogisticRegression_150ed0f15804', name='threshold', doc='Threshold in binary classification prediction, in range [0, 1]. If threshold and thresholds are both set, they must match.e.g. if threshold is p, then thresholds must be equal to [1-p, p].'): 0.5,\n",
       "   Param(parent='LogisticRegression_150ed0f15804', name='regParam', doc='regularization parameter (>= 0).'): 0.008,\n",
       "   Param(parent='LogisticRegression_150ed0f15804', name='maxIter', doc='max number of iterations (>= 0).'): 5000}),\n",
       " (0.5894176462823608,\n",
       "  {Param(parent='LogisticRegression_150ed0f15804', name='tol', doc='the convergence tolerance for iterative algorithms (>= 0).'): 0.001,\n",
       "   Param(parent='LogisticRegression_150ed0f15804', name='threshold', doc='Threshold in binary classification prediction, in range [0, 1]. If threshold and thresholds are both set, they must match.e.g. if threshold is p, then thresholds must be equal to [1-p, p].'): 0.5,\n",
       "   Param(parent='LogisticRegression_150ed0f15804', name='regParam', doc='regularization parameter (>= 0).'): 0.008,\n",
       "   Param(parent='LogisticRegression_150ed0f15804', name='maxIter', doc='max number of iterations (>= 0).'): 10000}),\n",
       " (0.5981486886434147,\n",
       "  {Param(parent='LogisticRegression_150ed0f15804', name='tol', doc='the convergence tolerance for iterative algorithms (>= 0).'): 0.001,\n",
       "   Param(parent='LogisticRegression_150ed0f15804', name='threshold', doc='Threshold in binary classification prediction, in range [0, 1]. If threshold and thresholds are both set, they must match.e.g. if threshold is p, then thresholds must be equal to [1-p, p].'): 0.5,\n",
       "   Param(parent='LogisticRegression_150ed0f15804', name='regParam', doc='regularization parameter (>= 0).'): 0.0008,\n",
       "   Param(parent='LogisticRegression_150ed0f15804', name='maxIter', doc='max number of iterations (>= 0).'): 1000}),\n",
       " (0.6010828019260948,\n",
       "  {Param(parent='LogisticRegression_150ed0f15804', name='tol', doc='the convergence tolerance for iterative algorithms (>= 0).'): 0.001,\n",
       "   Param(parent='LogisticRegression_150ed0f15804', name='threshold', doc='Threshold in binary classification prediction, in range [0, 1]. If threshold and thresholds are both set, they must match.e.g. if threshold is p, then thresholds must be equal to [1-p, p].'): 0.5,\n",
       "   Param(parent='LogisticRegression_150ed0f15804', name='regParam', doc='regularization parameter (>= 0).'): 0.0008,\n",
       "   Param(parent='LogisticRegression_150ed0f15804', name='maxIter', doc='max number of iterations (>= 0).'): 5000}),\n",
       " (0.6016056032334477,\n",
       "  {Param(parent='LogisticRegression_150ed0f15804', name='tol', doc='the convergence tolerance for iterative algorithms (>= 0).'): 0.001,\n",
       "   Param(parent='LogisticRegression_150ed0f15804', name='threshold', doc='Threshold in binary classification prediction, in range [0, 1]. If threshold and thresholds are both set, they must match.e.g. if threshold is p, then thresholds must be equal to [1-p, p].'): 0.5,\n",
       "   Param(parent='LogisticRegression_150ed0f15804', name='regParam', doc='regularization parameter (>= 0).'): 0.0008,\n",
       "   Param(parent='LogisticRegression_150ed0f15804', name='maxIter', doc='max number of iterations (>= 0).'): 10000}),\n",
       " (0.612373029009508,\n",
       "  {Param(parent='LogisticRegression_150ed0f15804', name='tol', doc='the convergence tolerance for iterative algorithms (>= 0).'): 0.001,\n",
       "   Param(parent='LogisticRegression_150ed0f15804', name='threshold', doc='Threshold in binary classification prediction, in range [0, 1]. If threshold and thresholds are both set, they must match.e.g. if threshold is p, then thresholds must be equal to [1-p, p].'): 0.5,\n",
       "   Param(parent='LogisticRegression_150ed0f15804', name='regParam', doc='regularization parameter (>= 0).'): 8e-05,\n",
       "   Param(parent='LogisticRegression_150ed0f15804', name='maxIter', doc='max number of iterations (>= 0).'): 1000}),\n",
       " (0.6118684344273376,\n",
       "  {Param(parent='LogisticRegression_150ed0f15804', name='tol', doc='the convergence tolerance for iterative algorithms (>= 0).'): 0.001,\n",
       "   Param(parent='LogisticRegression_150ed0f15804', name='threshold', doc='Threshold in binary classification prediction, in range [0, 1]. If threshold and thresholds are both set, they must match.e.g. if threshold is p, then thresholds must be equal to [1-p, p].'): 0.5,\n",
       "   Param(parent='LogisticRegression_150ed0f15804', name='regParam', doc='regularization parameter (>= 0).'): 8e-05,\n",
       "   Param(parent='LogisticRegression_150ed0f15804', name='maxIter', doc='max number of iterations (>= 0).'): 5000}),\n",
       " (0.6123649266253578,\n",
       "  {Param(parent='LogisticRegression_150ed0f15804', name='tol', doc='the convergence tolerance for iterative algorithms (>= 0).'): 0.001,\n",
       "   Param(parent='LogisticRegression_150ed0f15804', name='threshold', doc='Threshold in binary classification prediction, in range [0, 1]. If threshold and thresholds are both set, they must match.e.g. if threshold is p, then thresholds must be equal to [1-p, p].'): 0.5,\n",
       "   Param(parent='LogisticRegression_150ed0f15804', name='regParam', doc='regularization parameter (>= 0).'): 8e-05,\n",
       "   Param(parent='LogisticRegression_150ed0f15804', name='maxIter', doc='max number of iterations (>= 0).'): 10000}),\n",
       " (0.5892723788764962,\n",
       "  {Param(parent='LogisticRegression_150ed0f15804', name='tol', doc='the convergence tolerance for iterative algorithms (>= 0).'): 0.001,\n",
       "   Param(parent='LogisticRegression_150ed0f15804', name='threshold', doc='Threshold in binary classification prediction, in range [0, 1]. If threshold and thresholds are both set, they must match.e.g. if threshold is p, then thresholds must be equal to [1-p, p].'): 0.6,\n",
       "   Param(parent='LogisticRegression_150ed0f15804', name='regParam', doc='regularization parameter (>= 0).'): 0.008,\n",
       "   Param(parent='LogisticRegression_150ed0f15804', name='maxIter', doc='max number of iterations (>= 0).'): 1000}),\n",
       " (0.5902661425360531,\n",
       "  {Param(parent='LogisticRegression_150ed0f15804', name='tol', doc='the convergence tolerance for iterative algorithms (>= 0).'): 0.001,\n",
       "   Param(parent='LogisticRegression_150ed0f15804', name='threshold', doc='Threshold in binary classification prediction, in range [0, 1]. If threshold and thresholds are both set, they must match.e.g. if threshold is p, then thresholds must be equal to [1-p, p].'): 0.6,\n",
       "   Param(parent='LogisticRegression_150ed0f15804', name='regParam', doc='regularization parameter (>= 0).'): 0.008,\n",
       "   Param(parent='LogisticRegression_150ed0f15804', name='maxIter', doc='max number of iterations (>= 0).'): 5000}),\n",
       " (0.5898791639756154,\n",
       "  {Param(parent='LogisticRegression_150ed0f15804', name='tol', doc='the convergence tolerance for iterative algorithms (>= 0).'): 0.001,\n",
       "   Param(parent='LogisticRegression_150ed0f15804', name='threshold', doc='Threshold in binary classification prediction, in range [0, 1]. If threshold and thresholds are both set, they must match.e.g. if threshold is p, then thresholds must be equal to [1-p, p].'): 0.6,\n",
       "   Param(parent='LogisticRegression_150ed0f15804', name='regParam', doc='regularization parameter (>= 0).'): 0.008,\n",
       "   Param(parent='LogisticRegression_150ed0f15804', name='maxIter', doc='max number of iterations (>= 0).'): 10000}),\n",
       " (0.6019583736132306,\n",
       "  {Param(parent='LogisticRegression_150ed0f15804', name='tol', doc='the convergence tolerance for iterative algorithms (>= 0).'): 0.001,\n",
       "   Param(parent='LogisticRegression_150ed0f15804', name='threshold', doc='Threshold in binary classification prediction, in range [0, 1]. If threshold and thresholds are both set, they must match.e.g. if threshold is p, then thresholds must be equal to [1-p, p].'): 0.6,\n",
       "   Param(parent='LogisticRegression_150ed0f15804', name='regParam', doc='regularization parameter (>= 0).'): 0.0008,\n",
       "   Param(parent='LogisticRegression_150ed0f15804', name='maxIter', doc='max number of iterations (>= 0).'): 1000}),\n",
       " (0.6015609183187661,\n",
       "  {Param(parent='LogisticRegression_150ed0f15804', name='tol', doc='the convergence tolerance for iterative algorithms (>= 0).'): 0.001,\n",
       "   Param(parent='LogisticRegression_150ed0f15804', name='threshold', doc='Threshold in binary classification prediction, in range [0, 1]. If threshold and thresholds are both set, they must match.e.g. if threshold is p, then thresholds must be equal to [1-p, p].'): 0.6,\n",
       "   Param(parent='LogisticRegression_150ed0f15804', name='regParam', doc='regularization parameter (>= 0).'): 0.0008,\n",
       "   Param(parent='LogisticRegression_150ed0f15804', name='maxIter', doc='max number of iterations (>= 0).'): 5000}),\n",
       " (0.6041501539568702,\n",
       "  {Param(parent='LogisticRegression_150ed0f15804', name='tol', doc='the convergence tolerance for iterative algorithms (>= 0).'): 0.001,\n",
       "   Param(parent='LogisticRegression_150ed0f15804', name='threshold', doc='Threshold in binary classification prediction, in range [0, 1]. If threshold and thresholds are both set, they must match.e.g. if threshold is p, then thresholds must be equal to [1-p, p].'): 0.6,\n",
       "   Param(parent='LogisticRegression_150ed0f15804', name='regParam', doc='regularization parameter (>= 0).'): 0.0008,\n",
       "   Param(parent='LogisticRegression_150ed0f15804', name='maxIter', doc='max number of iterations (>= 0).'): 10000}),\n",
       " (0.6087619042249827,\n",
       "  {Param(parent='LogisticRegression_150ed0f15804', name='tol', doc='the convergence tolerance for iterative algorithms (>= 0).'): 0.001,\n",
       "   Param(parent='LogisticRegression_150ed0f15804', name='threshold', doc='Threshold in binary classification prediction, in range [0, 1]. If threshold and thresholds are both set, they must match.e.g. if threshold is p, then thresholds must be equal to [1-p, p].'): 0.6,\n",
       "   Param(parent='LogisticRegression_150ed0f15804', name='regParam', doc='regularization parameter (>= 0).'): 8e-05,\n",
       "   Param(parent='LogisticRegression_150ed0f15804', name='maxIter', doc='max number of iterations (>= 0).'): 1000}),\n",
       " (0.612998699851169,\n",
       "  {Param(parent='LogisticRegression_150ed0f15804', name='tol', doc='the convergence tolerance for iterative algorithms (>= 0).'): 0.001,\n",
       "   Param(parent='LogisticRegression_150ed0f15804', name='threshold', doc='Threshold in binary classification prediction, in range [0, 1]. If threshold and thresholds are both set, they must match.e.g. if threshold is p, then thresholds must be equal to [1-p, p].'): 0.6,\n",
       "   Param(parent='LogisticRegression_150ed0f15804', name='regParam', doc='regularization parameter (>= 0).'): 8e-05,\n",
       "   Param(parent='LogisticRegression_150ed0f15804', name='maxIter', doc='max number of iterations (>= 0).'): 5000}),\n",
       " (0.6101156489645373,\n",
       "  {Param(parent='LogisticRegression_150ed0f15804', name='tol', doc='the convergence tolerance for iterative algorithms (>= 0).'): 0.001,\n",
       "   Param(parent='LogisticRegression_150ed0f15804', name='threshold', doc='Threshold in binary classification prediction, in range [0, 1]. If threshold and thresholds are both set, they must match.e.g. if threshold is p, then thresholds must be equal to [1-p, p].'): 0.6,\n",
       "   Param(parent='LogisticRegression_150ed0f15804', name='regParam', doc='regularization parameter (>= 0).'): 8e-05,\n",
       "   Param(parent='LogisticRegression_150ed0f15804', name='maxIter', doc='max number of iterations (>= 0).'): 10000}),\n",
       " (0.5876543741315123,\n",
       "  {Param(parent='LogisticRegression_150ed0f15804', name='tol', doc='the convergence tolerance for iterative algorithms (>= 0).'): 0.0004,\n",
       "   Param(parent='LogisticRegression_150ed0f15804', name='threshold', doc='Threshold in binary classification prediction, in range [0, 1]. If threshold and thresholds are both set, they must match.e.g. if threshold is p, then thresholds must be equal to [1-p, p].'): 0.4,\n",
       "   Param(parent='LogisticRegression_150ed0f15804', name='regParam', doc='regularization parameter (>= 0).'): 0.008,\n",
       "   Param(parent='LogisticRegression_150ed0f15804', name='maxIter', doc='max number of iterations (>= 0).'): 1000}),\n",
       " (0.5896200424357662,\n",
       "  {Param(parent='LogisticRegression_150ed0f15804', name='tol', doc='the convergence tolerance for iterative algorithms (>= 0).'): 0.0004,\n",
       "   Param(parent='LogisticRegression_150ed0f15804', name='threshold', doc='Threshold in binary classification prediction, in range [0, 1]. If threshold and thresholds are both set, they must match.e.g. if threshold is p, then thresholds must be equal to [1-p, p].'): 0.4,\n",
       "   Param(parent='LogisticRegression_150ed0f15804', name='regParam', doc='regularization parameter (>= 0).'): 0.008,\n",
       "   Param(parent='LogisticRegression_150ed0f15804', name='maxIter', doc='max number of iterations (>= 0).'): 5000}),\n",
       " (0.5910772793904133,\n",
       "  {Param(parent='LogisticRegression_150ed0f15804', name='tol', doc='the convergence tolerance for iterative algorithms (>= 0).'): 0.0004,\n",
       "   Param(parent='LogisticRegression_150ed0f15804', name='threshold', doc='Threshold in binary classification prediction, in range [0, 1]. If threshold and thresholds are both set, they must match.e.g. if threshold is p, then thresholds must be equal to [1-p, p].'): 0.4,\n",
       "   Param(parent='LogisticRegression_150ed0f15804', name='regParam', doc='regularization parameter (>= 0).'): 0.008,\n",
       "   Param(parent='LogisticRegression_150ed0f15804', name='maxIter', doc='max number of iterations (>= 0).'): 10000}),\n",
       " (0.6036777604128962,\n",
       "  {Param(parent='LogisticRegression_150ed0f15804', name='tol', doc='the convergence tolerance for iterative algorithms (>= 0).'): 0.0004,\n",
       "   Param(parent='LogisticRegression_150ed0f15804', name='threshold', doc='Threshold in binary classification prediction, in range [0, 1]. If threshold and thresholds are both set, they must match.e.g. if threshold is p, then thresholds must be equal to [1-p, p].'): 0.4,\n",
       "   Param(parent='LogisticRegression_150ed0f15804', name='regParam', doc='regularization parameter (>= 0).'): 0.0008,\n",
       "   Param(parent='LogisticRegression_150ed0f15804', name='maxIter', doc='max number of iterations (>= 0).'): 1000}),\n",
       " (0.6033785612124639,\n",
       "  {Param(parent='LogisticRegression_150ed0f15804', name='tol', doc='the convergence tolerance for iterative algorithms (>= 0).'): 0.0004,\n",
       "   Param(parent='LogisticRegression_150ed0f15804', name='threshold', doc='Threshold in binary classification prediction, in range [0, 1]. If threshold and thresholds are both set, they must match.e.g. if threshold is p, then thresholds must be equal to [1-p, p].'): 0.4,\n",
       "   Param(parent='LogisticRegression_150ed0f15804', name='regParam', doc='regularization parameter (>= 0).'): 0.0008,\n",
       "   Param(parent='LogisticRegression_150ed0f15804', name='maxIter', doc='max number of iterations (>= 0).'): 5000}),\n",
       " (0.6003283356073661,\n",
       "  {Param(parent='LogisticRegression_150ed0f15804', name='tol', doc='the convergence tolerance for iterative algorithms (>= 0).'): 0.0004,\n",
       "   Param(parent='LogisticRegression_150ed0f15804', name='threshold', doc='Threshold in binary classification prediction, in range [0, 1]. If threshold and thresholds are both set, they must match.e.g. if threshold is p, then thresholds must be equal to [1-p, p].'): 0.4,\n",
       "   Param(parent='LogisticRegression_150ed0f15804', name='regParam', doc='regularization parameter (>= 0).'): 0.0008,\n",
       "   Param(parent='LogisticRegression_150ed0f15804', name='maxIter', doc='max number of iterations (>= 0).'): 10000}),\n",
       " (0.6126311883950186,\n",
       "  {Param(parent='LogisticRegression_150ed0f15804', name='tol', doc='the convergence tolerance for iterative algorithms (>= 0).'): 0.0004,\n",
       "   Param(parent='LogisticRegression_150ed0f15804', name='threshold', doc='Threshold in binary classification prediction, in range [0, 1]. If threshold and thresholds are both set, they must match.e.g. if threshold is p, then thresholds must be equal to [1-p, p].'): 0.4,\n",
       "   Param(parent='LogisticRegression_150ed0f15804', name='regParam', doc='regularization parameter (>= 0).'): 8e-05,\n",
       "   Param(parent='LogisticRegression_150ed0f15804', name='maxIter', doc='max number of iterations (>= 0).'): 1000}),\n",
       " (0.6100090617380787,\n",
       "  {Param(parent='LogisticRegression_150ed0f15804', name='tol', doc='the convergence tolerance for iterative algorithms (>= 0).'): 0.0004,\n",
       "   Param(parent='LogisticRegression_150ed0f15804', name='threshold', doc='Threshold in binary classification prediction, in range [0, 1]. If threshold and thresholds are both set, they must match.e.g. if threshold is p, then thresholds must be equal to [1-p, p].'): 0.4,\n",
       "   Param(parent='LogisticRegression_150ed0f15804', name='regParam', doc='regularization parameter (>= 0).'): 8e-05,\n",
       "   Param(parent='LogisticRegression_150ed0f15804', name='maxIter', doc='max number of iterations (>= 0).'): 5000}),\n",
       " (0.61668358593386,\n",
       "  {Param(parent='LogisticRegression_150ed0f15804', name='tol', doc='the convergence tolerance for iterative algorithms (>= 0).'): 0.0004,\n",
       "   Param(parent='LogisticRegression_150ed0f15804', name='threshold', doc='Threshold in binary classification prediction, in range [0, 1]. If threshold and thresholds are both set, they must match.e.g. if threshold is p, then thresholds must be equal to [1-p, p].'): 0.4,\n",
       "   Param(parent='LogisticRegression_150ed0f15804', name='regParam', doc='regularization parameter (>= 0).'): 8e-05,\n",
       "   Param(parent='LogisticRegression_150ed0f15804', name='maxIter', doc='max number of iterations (>= 0).'): 10000}),\n",
       " (0.5899061190028794,\n",
       "  {Param(parent='LogisticRegression_150ed0f15804', name='tol', doc='the convergence tolerance for iterative algorithms (>= 0).'): 0.0004,\n",
       "   Param(parent='LogisticRegression_150ed0f15804', name='threshold', doc='Threshold in binary classification prediction, in range [0, 1]. If threshold and thresholds are both set, they must match.e.g. if threshold is p, then thresholds must be equal to [1-p, p].'): 0.5,\n",
       "   Param(parent='LogisticRegression_150ed0f15804', name='regParam', doc='regularization parameter (>= 0).'): 0.008,\n",
       "   Param(parent='LogisticRegression_150ed0f15804', name='maxIter', doc='max number of iterations (>= 0).'): 1000}),\n",
       " (0.5916159470604839,\n",
       "  {Param(parent='LogisticRegression_150ed0f15804', name='tol', doc='the convergence tolerance for iterative algorithms (>= 0).'): 0.0004,\n",
       "   Param(parent='LogisticRegression_150ed0f15804', name='threshold', doc='Threshold in binary classification prediction, in range [0, 1]. If threshold and thresholds are both set, they must match.e.g. if threshold is p, then thresholds must be equal to [1-p, p].'): 0.5,\n",
       "   Param(parent='LogisticRegression_150ed0f15804', name='regParam', doc='regularization parameter (>= 0).'): 0.008,\n",
       "   Param(parent='LogisticRegression_150ed0f15804', name='maxIter', doc='max number of iterations (>= 0).'): 5000}),\n",
       " (0.5914680551430967,\n",
       "  {Param(parent='LogisticRegression_150ed0f15804', name='tol', doc='the convergence tolerance for iterative algorithms (>= 0).'): 0.0004,\n",
       "   Param(parent='LogisticRegression_150ed0f15804', name='threshold', doc='Threshold in binary classification prediction, in range [0, 1]. If threshold and thresholds are both set, they must match.e.g. if threshold is p, then thresholds must be equal to [1-p, p].'): 0.5,\n",
       "   Param(parent='LogisticRegression_150ed0f15804', name='regParam', doc='regularization parameter (>= 0).'): 0.008,\n",
       "   Param(parent='LogisticRegression_150ed0f15804', name='maxIter', doc='max number of iterations (>= 0).'): 10000}),\n",
       " (0.6028054262260274,\n",
       "  {Param(parent='LogisticRegression_150ed0f15804', name='tol', doc='the convergence tolerance for iterative algorithms (>= 0).'): 0.0004,\n",
       "   Param(parent='LogisticRegression_150ed0f15804', name='threshold', doc='Threshold in binary classification prediction, in range [0, 1]. If threshold and thresholds are both set, they must match.e.g. if threshold is p, then thresholds must be equal to [1-p, p].'): 0.5,\n",
       "   Param(parent='LogisticRegression_150ed0f15804', name='regParam', doc='regularization parameter (>= 0).'): 0.0008,\n",
       "   Param(parent='LogisticRegression_150ed0f15804', name='maxIter', doc='max number of iterations (>= 0).'): 1000}),\n",
       " (0.6057259682088072,\n",
       "  {Param(parent='LogisticRegression_150ed0f15804', name='tol', doc='the convergence tolerance for iterative algorithms (>= 0).'): 0.0004,\n",
       "   Param(parent='LogisticRegression_150ed0f15804', name='threshold', doc='Threshold in binary classification prediction, in range [0, 1]. If threshold and thresholds are both set, they must match.e.g. if threshold is p, then thresholds must be equal to [1-p, p].'): 0.5,\n",
       "   Param(parent='LogisticRegression_150ed0f15804', name='regParam', doc='regularization parameter (>= 0).'): 0.0008,\n",
       "   Param(parent='LogisticRegression_150ed0f15804', name='maxIter', doc='max number of iterations (>= 0).'): 5000}),\n",
       " (0.6021160679853881,\n",
       "  {Param(parent='LogisticRegression_150ed0f15804', name='tol', doc='the convergence tolerance for iterative algorithms (>= 0).'): 0.0004,\n",
       "   Param(parent='LogisticRegression_150ed0f15804', name='threshold', doc='Threshold in binary classification prediction, in range [0, 1]. If threshold and thresholds are both set, they must match.e.g. if threshold is p, then thresholds must be equal to [1-p, p].'): 0.5,\n",
       "   Param(parent='LogisticRegression_150ed0f15804', name='regParam', doc='regularization parameter (>= 0).'): 0.0008,\n",
       "   Param(parent='LogisticRegression_150ed0f15804', name='maxIter', doc='max number of iterations (>= 0).'): 10000}),\n",
       " (0.6150525377850936,\n",
       "  {Param(parent='LogisticRegression_150ed0f15804', name='tol', doc='the convergence tolerance for iterative algorithms (>= 0).'): 0.0004,\n",
       "   Param(parent='LogisticRegression_150ed0f15804', name='threshold', doc='Threshold in binary classification prediction, in range [0, 1]. If threshold and thresholds are both set, they must match.e.g. if threshold is p, then thresholds must be equal to [1-p, p].'): 0.5,\n",
       "   Param(parent='LogisticRegression_150ed0f15804', name='regParam', doc='regularization parameter (>= 0).'): 8e-05,\n",
       "   Param(parent='LogisticRegression_150ed0f15804', name='maxIter', doc='max number of iterations (>= 0).'): 1000}),\n",
       " (0.6128879242652673,\n",
       "  {Param(parent='LogisticRegression_150ed0f15804', name='tol', doc='the convergence tolerance for iterative algorithms (>= 0).'): 0.0004,\n",
       "   Param(parent='LogisticRegression_150ed0f15804', name='threshold', doc='Threshold in binary classification prediction, in range [0, 1]. If threshold and thresholds are both set, they must match.e.g. if threshold is p, then thresholds must be equal to [1-p, p].'): 0.5,\n",
       "   Param(parent='LogisticRegression_150ed0f15804', name='regParam', doc='regularization parameter (>= 0).'): 8e-05,\n",
       "   Param(parent='LogisticRegression_150ed0f15804', name='maxIter', doc='max number of iterations (>= 0).'): 5000}),\n",
       " (0.6122290789197384,\n",
       "  {Param(parent='LogisticRegression_150ed0f15804', name='tol', doc='the convergence tolerance for iterative algorithms (>= 0).'): 0.0004,\n",
       "   Param(parent='LogisticRegression_150ed0f15804', name='threshold', doc='Threshold in binary classification prediction, in range [0, 1]. If threshold and thresholds are both set, they must match.e.g. if threshold is p, then thresholds must be equal to [1-p, p].'): 0.5,\n",
       "   Param(parent='LogisticRegression_150ed0f15804', name='regParam', doc='regularization parameter (>= 0).'): 8e-05,\n",
       "   Param(parent='LogisticRegression_150ed0f15804', name='maxIter', doc='max number of iterations (>= 0).'): 10000}),\n",
       " (0.5894903398739396,\n",
       "  {Param(parent='LogisticRegression_150ed0f15804', name='tol', doc='the convergence tolerance for iterative algorithms (>= 0).'): 0.0004,\n",
       "   Param(parent='LogisticRegression_150ed0f15804', name='threshold', doc='Threshold in binary classification prediction, in range [0, 1]. If threshold and thresholds are both set, they must match.e.g. if threshold is p, then thresholds must be equal to [1-p, p].'): 0.6,\n",
       "   Param(parent='LogisticRegression_150ed0f15804', name='regParam', doc='regularization parameter (>= 0).'): 0.008,\n",
       "   Param(parent='LogisticRegression_150ed0f15804', name='maxIter', doc='max number of iterations (>= 0).'): 1000}),\n",
       " (0.587682356378914,\n",
       "  {Param(parent='LogisticRegression_150ed0f15804', name='tol', doc='the convergence tolerance for iterative algorithms (>= 0).'): 0.0004,\n",
       "   Param(parent='LogisticRegression_150ed0f15804', name='threshold', doc='Threshold in binary classification prediction, in range [0, 1]. If threshold and thresholds are both set, they must match.e.g. if threshold is p, then thresholds must be equal to [1-p, p].'): 0.6,\n",
       "   Param(parent='LogisticRegression_150ed0f15804', name='regParam', doc='regularization parameter (>= 0).'): 0.008,\n",
       "   Param(parent='LogisticRegression_150ed0f15804', name='maxIter', doc='max number of iterations (>= 0).'): 5000}),\n",
       " (0.5875580730862408,\n",
       "  {Param(parent='LogisticRegression_150ed0f15804', name='tol', doc='the convergence tolerance for iterative algorithms (>= 0).'): 0.0004,\n",
       "   Param(parent='LogisticRegression_150ed0f15804', name='threshold', doc='Threshold in binary classification prediction, in range [0, 1]. If threshold and thresholds are both set, they must match.e.g. if threshold is p, then thresholds must be equal to [1-p, p].'): 0.6,\n",
       "   Param(parent='LogisticRegression_150ed0f15804', name='regParam', doc='regularization parameter (>= 0).'): 0.008,\n",
       "   Param(parent='LogisticRegression_150ed0f15804', name='maxIter', doc='max number of iterations (>= 0).'): 10000}),\n",
       " (0.6025992079403543,\n",
       "  {Param(parent='LogisticRegression_150ed0f15804', name='tol', doc='the convergence tolerance for iterative algorithms (>= 0).'): 0.0004,\n",
       "   Param(parent='LogisticRegression_150ed0f15804', name='threshold', doc='Threshold in binary classification prediction, in range [0, 1]. If threshold and thresholds are both set, they must match.e.g. if threshold is p, then thresholds must be equal to [1-p, p].'): 0.6,\n",
       "   Param(parent='LogisticRegression_150ed0f15804', name='regParam', doc='regularization parameter (>= 0).'): 0.0008,\n",
       "   Param(parent='LogisticRegression_150ed0f15804', name='maxIter', doc='max number of iterations (>= 0).'): 1000}),\n",
       " (0.600657751497927,\n",
       "  {Param(parent='LogisticRegression_150ed0f15804', name='tol', doc='the convergence tolerance for iterative algorithms (>= 0).'): 0.0004,\n",
       "   Param(parent='LogisticRegression_150ed0f15804', name='threshold', doc='Threshold in binary classification prediction, in range [0, 1]. If threshold and thresholds are both set, they must match.e.g. if threshold is p, then thresholds must be equal to [1-p, p].'): 0.6,\n",
       "   Param(parent='LogisticRegression_150ed0f15804', name='regParam', doc='regularization parameter (>= 0).'): 0.0008,\n",
       "   Param(parent='LogisticRegression_150ed0f15804', name='maxIter', doc='max number of iterations (>= 0).'): 5000}),\n",
       " (0.6017055760767402,\n",
       "  {Param(parent='LogisticRegression_150ed0f15804', name='tol', doc='the convergence tolerance for iterative algorithms (>= 0).'): 0.0004,\n",
       "   Param(parent='LogisticRegression_150ed0f15804', name='threshold', doc='Threshold in binary classification prediction, in range [0, 1]. If threshold and thresholds are both set, they must match.e.g. if threshold is p, then thresholds must be equal to [1-p, p].'): 0.6,\n",
       "   Param(parent='LogisticRegression_150ed0f15804', name='regParam', doc='regularization parameter (>= 0).'): 0.0008,\n",
       "   Param(parent='LogisticRegression_150ed0f15804', name='maxIter', doc='max number of iterations (>= 0).'): 10000}),\n",
       " (0.6146977272278421,\n",
       "  {Param(parent='LogisticRegression_150ed0f15804', name='tol', doc='the convergence tolerance for iterative algorithms (>= 0).'): 0.0004,\n",
       "   Param(parent='LogisticRegression_150ed0f15804', name='threshold', doc='Threshold in binary classification prediction, in range [0, 1]. If threshold and thresholds are both set, they must match.e.g. if threshold is p, then thresholds must be equal to [1-p, p].'): 0.6,\n",
       "   Param(parent='LogisticRegression_150ed0f15804', name='regParam', doc='regularization parameter (>= 0).'): 8e-05,\n",
       "   Param(parent='LogisticRegression_150ed0f15804', name='maxIter', doc='max number of iterations (>= 0).'): 1000}),\n",
       " (0.6136892076368796,\n",
       "  {Param(parent='LogisticRegression_150ed0f15804', name='tol', doc='the convergence tolerance for iterative algorithms (>= 0).'): 0.0004,\n",
       "   Param(parent='LogisticRegression_150ed0f15804', name='threshold', doc='Threshold in binary classification prediction, in range [0, 1]. If threshold and thresholds are both set, they must match.e.g. if threshold is p, then thresholds must be equal to [1-p, p].'): 0.6,\n",
       "   Param(parent='LogisticRegression_150ed0f15804', name='regParam', doc='regularization parameter (>= 0).'): 8e-05,\n",
       "   Param(parent='LogisticRegression_150ed0f15804', name='maxIter', doc='max number of iterations (>= 0).'): 5000}),\n",
       " (0.6130764789279091,\n",
       "  {Param(parent='LogisticRegression_150ed0f15804', name='tol', doc='the convergence tolerance for iterative algorithms (>= 0).'): 0.0004,\n",
       "   Param(parent='LogisticRegression_150ed0f15804', name='threshold', doc='Threshold in binary classification prediction, in range [0, 1]. If threshold and thresholds are both set, they must match.e.g. if threshold is p, then thresholds must be equal to [1-p, p].'): 0.6,\n",
       "   Param(parent='LogisticRegression_150ed0f15804', name='regParam', doc='regularization parameter (>= 0).'): 8e-05,\n",
       "   Param(parent='LogisticRegression_150ed0f15804', name='maxIter', doc='max number of iterations (>= 0).'): 10000})]"
      ]
     },
     "execution_count": 30,
     "metadata": {},
     "output_type": "execute_result"
    }
   ],
   "source": [
    "###### View all results (accuracy) by each params\n",
    "list(zip(model.validationMetrics, model.getEstimatorParamMaps()))"
   ]
  },
  {
   "cell_type": "code",
   "execution_count": 26,
   "id": "0f62eae5-ff66-41cf-be4e-27bac91a625a",
   "metadata": {
    "tags": []
   },
   "outputs": [
    {
     "name": "stderr",
     "output_type": "stream",
     "text": [
      "                                                                                \r"
     ]
    }
   ],
   "source": [
    "# setup the pipeline for the best parameter\n",
    "best_model = LogisticRegression(featuresCol= 'w2v',labelCol= 'polarity',regParam=0.00008,tol=0.0004,threshold=0.4, maxIter=10000) # \n",
    "pipeline = Pipeline(stages= [tokenizer, stopwords_remover, word_2_vec, best_model])\n",
    "optModel = pipeline.fit(train_tweet)"
   ]
  },
  {
   "cell_type": "markdown",
   "id": "299c395d-cc02-4ff8-96b2-91371cb79719",
   "metadata": {
    "tags": []
   },
   "source": [
    "#### Evaluating model"
   ]
  },
  {
   "cell_type": "code",
   "execution_count": 27,
   "id": "4e2c1b9d-0183-4578-8a93-4798cda840c4",
   "metadata": {},
   "outputs": [
    {
     "name": "stderr",
     "output_type": "stream",
     "text": [
      "[Stage 203:============================>                            (2 + 2) / 4]\r"
     ]
    },
    {
     "name": "stdout",
     "output_type": "stream",
     "text": [
      "Accuracy: 0.6216805172120891\n"
     ]
    },
    {
     "name": "stderr",
     "output_type": "stream",
     "text": [
      "                                                                                \r"
     ]
    }
   ],
   "source": [
    "# Predictions on our - Test Dataset.\n",
    "predictions = optModel.transform(test_tweet)\n",
    "\n",
    "evaluator = MulticlassClassificationEvaluator(labelCol='polarity',predictionCol='prediction',metricName='f1')\n",
    "accuracy = evaluator.evaluate(predictions)\n",
    "print(\"Accuracy:\", accuracy)"
   ]
  },
  {
   "cell_type": "code",
   "execution_count": 30,
   "id": "3b3615b2-77a0-4859-8d19-8442560fb25b",
   "metadata": {},
   "outputs": [
    {
     "name": "stderr",
     "output_type": "stream",
     "text": [
      "                                                                                \r"
     ]
    }
   ],
   "source": [
    "y_true = predictions.select('polarity')\n",
    "y_true = y_true.toPandas()\n",
    "y_pred = predictions.select('prediction')\n",
    "y_pred = y_pred.toPandas()"
   ]
  },
  {
   "cell_type": "code",
   "execution_count": 32,
   "id": "a6ae2e40-0164-47c0-a6d0-96d9ff34cad4",
   "metadata": {},
   "outputs": [
    {
     "name": "stdout",
     "output_type": "stream",
     "text": [
      "              precision    recall  f1-score   support\n",
      "\n",
      "           0       0.64      0.61      0.62      9032\n",
      "           1       0.63      0.73      0.68     11262\n",
      "           2       0.59      0.48      0.53      7001\n",
      "\n",
      "    accuracy                           0.63     27295\n",
      "   macro avg       0.62      0.61      0.61     27295\n",
      "weighted avg       0.62      0.63      0.62     27295\n",
      "\n"
     ]
    }
   ],
   "source": [
    "# Classication Report\n",
    "print(classification_report(y_true,y_pred))"
   ]
  },
  {
   "cell_type": "code",
   "execution_count": 41,
   "id": "bddcde62",
   "metadata": {},
   "outputs": [
    {
     "name": "stderr",
     "output_type": "stream",
     "text": [
      "                                                                                \r"
     ]
    }
   ],
   "source": [
    "# persisting the model\n",
    "optModel.write().overwrite().save('pipeline_lr_model')"
   ]
  },
  {
   "cell_type": "markdown",
   "id": "40fdc65e",
   "metadata": {},
   "source": [
    "### 2. Logistric regression with transformation from Johnsnow nlp"
   ]
  },
  {
   "cell_type": "markdown",
   "id": "57241fb1",
   "metadata": {},
   "source": [
    "#### Building pipeline"
   ]
  },
  {
   "cell_type": "code",
   "execution_count": 33,
   "id": "0fa4abe0",
   "metadata": {},
   "outputs": [],
   "source": [
    "#import sparknlp\n",
    "#from pyspark.ml.feature import CountVectorizer, HashingTF, IDF, OneHotEncoder, StringIndexer, VectorAssembler, SQLTransformer\n",
    "\n",
    "document_assembler = DocumentAssembler() \\\n",
    "      .setInputCol(\"text\") \\\n",
    "      .setOutputCol(\"document\")\n",
    "tokenizer = Tokenizer() \\\n",
    "      .setInputCols([\"document\"]) \\\n",
    "      .setOutputCol(\"token\")\n",
    "normalizer = Normalizer() \\\n",
    "      .setInputCols([\"token\"]) \\\n",
    "      .setOutputCol(\"normalized\")\n",
    "stopwords_cleaner = StopWordsCleaner()\\\n",
    "      .setInputCols(\"normalized\")\\\n",
    "      .setOutputCol(\"cleanTokens\")\\\n",
    "      .setCaseSensitive(False)\n",
    "stemmer = Stemmer() \\\n",
    "      .setInputCols([\"cleanTokens\"]) \\\n",
    "      .setOutputCol(\"stem\")\n",
    "finisher = Finisher() \\\n",
    "      .setInputCols([\"stem\"]) \\\n",
    "      .setOutputCols([\"token_features\"]) \\\n",
    "      .setOutputAsArray(True) \\\n",
    "      .setCleanAnnotations(False)\n",
    "countVectors = CountVectorizer(inputCol=\"token_features\", outputCol=\"features\", vocabSize=10000, minDF=5)"
   ]
  },
  {
   "cell_type": "code",
   "execution_count": 34,
   "id": "faefff76",
   "metadata": {},
   "outputs": [],
   "source": [
    "# Create the pipeline\n",
    "nlp_pipeline = Pipeline(\n",
    "    stages=[document_assembler, \n",
    "            tokenizer,\n",
    "            normalizer,\n",
    "            stopwords_cleaner, \n",
    "            stemmer, \n",
    "            finisher,\n",
    "            countVectors\n",
    "            ])"
   ]
  },
  {
   "cell_type": "code",
   "execution_count": 35,
   "id": "ea304280",
   "metadata": {},
   "outputs": [
    {
     "name": "stderr",
     "output_type": "stream",
     "text": [
      "                                                                                \r"
     ]
    }
   ],
   "source": [
    "nlp_model = nlp_pipeline.fit(tweet_data)\n",
    "processed = nlp_model.transform(tweet_data)"
   ]
  },
  {
   "cell_type": "code",
   "execution_count": 36,
   "id": "9d5d17c3-a51c-4b49-bb65-da5ed5013be7",
   "metadata": {},
   "outputs": [
    {
     "name": "stdout",
     "output_type": "stream",
     "text": [
      "root\n",
      " |-- text: string (nullable = true)\n",
      " |-- polarity: integer (nullable = true)\n",
      " |-- document: array (nullable = true)\n",
      " |    |-- element: struct (containsNull = true)\n",
      " |    |    |-- annotatorType: string (nullable = true)\n",
      " |    |    |-- begin: integer (nullable = false)\n",
      " |    |    |-- end: integer (nullable = false)\n",
      " |    |    |-- result: string (nullable = true)\n",
      " |    |    |-- metadata: map (nullable = true)\n",
      " |    |    |    |-- key: string\n",
      " |    |    |    |-- value: string (valueContainsNull = true)\n",
      " |    |    |-- embeddings: array (nullable = true)\n",
      " |    |    |    |-- element: float (containsNull = false)\n",
      " |-- token: array (nullable = true)\n",
      " |    |-- element: struct (containsNull = true)\n",
      " |    |    |-- annotatorType: string (nullable = true)\n",
      " |    |    |-- begin: integer (nullable = false)\n",
      " |    |    |-- end: integer (nullable = false)\n",
      " |    |    |-- result: string (nullable = true)\n",
      " |    |    |-- metadata: map (nullable = true)\n",
      " |    |    |    |-- key: string\n",
      " |    |    |    |-- value: string (valueContainsNull = true)\n",
      " |    |    |-- embeddings: array (nullable = true)\n",
      " |    |    |    |-- element: float (containsNull = false)\n",
      " |-- normalized: array (nullable = true)\n",
      " |    |-- element: struct (containsNull = true)\n",
      " |    |    |-- annotatorType: string (nullable = true)\n",
      " |    |    |-- begin: integer (nullable = false)\n",
      " |    |    |-- end: integer (nullable = false)\n",
      " |    |    |-- result: string (nullable = true)\n",
      " |    |    |-- metadata: map (nullable = true)\n",
      " |    |    |    |-- key: string\n",
      " |    |    |    |-- value: string (valueContainsNull = true)\n",
      " |    |    |-- embeddings: array (nullable = true)\n",
      " |    |    |    |-- element: float (containsNull = false)\n",
      " |-- cleanTokens: array (nullable = true)\n",
      " |    |-- element: struct (containsNull = true)\n",
      " |    |    |-- annotatorType: string (nullable = true)\n",
      " |    |    |-- begin: integer (nullable = false)\n",
      " |    |    |-- end: integer (nullable = false)\n",
      " |    |    |-- result: string (nullable = true)\n",
      " |    |    |-- metadata: map (nullable = true)\n",
      " |    |    |    |-- key: string\n",
      " |    |    |    |-- value: string (valueContainsNull = true)\n",
      " |    |    |-- embeddings: array (nullable = true)\n",
      " |    |    |    |-- element: float (containsNull = false)\n",
      " |-- stem: array (nullable = true)\n",
      " |    |-- element: struct (containsNull = true)\n",
      " |    |    |-- annotatorType: string (nullable = true)\n",
      " |    |    |-- begin: integer (nullable = false)\n",
      " |    |    |-- end: integer (nullable = false)\n",
      " |    |    |-- result: string (nullable = true)\n",
      " |    |    |-- metadata: map (nullable = true)\n",
      " |    |    |    |-- key: string\n",
      " |    |    |    |-- value: string (valueContainsNull = true)\n",
      " |    |    |-- embeddings: array (nullable = true)\n",
      " |    |    |    |-- element: float (containsNull = false)\n",
      " |-- token_features: array (nullable = true)\n",
      " |    |-- element: string (containsNull = true)\n",
      " |-- features: vector (nullable = true)\n",
      "\n"
     ]
    }
   ],
   "source": [
    "processed.printSchema()"
   ]
  },
  {
   "cell_type": "code",
   "execution_count": 39,
   "id": "458c33e7",
   "metadata": {},
   "outputs": [
    {
     "name": "stdout",
     "output_type": "stream",
     "text": [
      "+--------------------------------------------------+--------+\n",
      "|                                              text|polarity|\n",
      "+--------------------------------------------------+--------+\n",
      "|when modi promised “minimum government maximum ...|       2|\n",
      "|talk all the nonsense and continue all the dram...|       0|\n",
      "|what did just say vote for modi  welcome bjp to...|       1|\n",
      "|asking his supporters prefix chowkidar their na...|       1|\n",
      "|answer who among these the most powerful world ...|       1|\n",
      "|           kiya tho refresh maarkefir comment karo|       0|\n",
      "|surat women perform yagna seeks divine grace fo...|       0|\n",
      "|this comes from cabinet which has scholars like...|       0|\n",
      "|with upcoming election india saga going importa...|       1|\n",
      "|                          gandhi was gay does modi|       1|\n",
      "|things like demonetisation gst goods and servic...|       1|\n",
      "|hope tuthukudi people would prefer honest well ...|       1|\n",
      "|                  calm waters wheres the modi wave|       1|\n",
      "|one vote can make all the difference anil kapoo...|       0|\n",
      "|one vote can make all the difference anil kapoo...|       0|\n",
      "|vote such party and leadershipwho can take fast...|       2|\n",
      "|                vote modi who has not created jobs|       0|\n",
      "|through our vote ensure govt need and deserve a...|       0|\n",
      "|dont play with the words was talking about the ...|       1|\n",
      "|didn’ write chowkidar does mean ’ anti modi try...|       2|\n",
      "+--------------------------------------------------+--------+\n",
      "only showing top 20 rows\n",
      "\n"
     ]
    }
   ],
   "source": [
    "processed.select('text','polarity').show(truncate=50)"
   ]
  },
  {
   "cell_type": "code",
   "execution_count": 41,
   "id": "0f2ffe2c",
   "metadata": {},
   "outputs": [
    {
     "name": "stdout",
     "output_type": "stream",
     "text": [
      "+--------------------+--------------------+--------+\n",
      "|                text|            features|polarity|\n",
      "+--------------------+--------------------+--------+\n",
      "|when modi promise...|(10000,[0,13,14,2...|       2|\n",
      "|talk all the nons...|(10000,[0,7,87,36...|       0|\n",
      "|what did just say...|(10000,[0,3,7,15,...|       1|\n",
      "|asking his suppor...|(10000,[0,24,30,3...|       1|\n",
      "|answer who among ...|(10000,[0,33,42,6...|       1|\n",
      "|kiya tho refresh ...|(10000,[434,1060,...|       0|\n",
      "|surat women perfo...|(10000,[0,8,85,43...|       0|\n",
      "|this comes from c...|(10000,[0,4,12,30...|       0|\n",
      "|with upcoming ele...|(10000,[0,1,5,9,8...|       1|\n",
      "|gandhi was gay do...|(10000,[0,35,3035...|       1|\n",
      "|things like demon...|(10000,[0,4,12,15...|       1|\n",
      "|hope tuthukudi pe...|(10000,[0,2,7,37,...|       1|\n",
      "|calm waters where...|(10000,[0,402,877...|       1|\n",
      "|one vote can make...|(10000,[0,5,7,11,...|       0|\n",
      "|one vote can make...|(10000,[0,5,7,11,...|       0|\n",
      "|vote such party a...|(10000,[0,3,7,8,2...|       2|\n",
      "|vote modi who has...|(10000,[0,7,59,17...|       0|\n",
      "|through our vote ...|(10000,[0,5,7,9,3...|       0|\n",
      "|dont play with th...|(10000,[0,17,22,3...|       1|\n",
      "|didn’ write chowk...|(10000,[0,56,61,9...|       2|\n",
      "+--------------------+--------------------+--------+\n",
      "only showing top 20 rows\n",
      "\n"
     ]
    }
   ],
   "source": [
    "processed.select('text','features','polarity').show()"
   ]
  },
  {
   "cell_type": "markdown",
   "id": "5bb8c04d",
   "metadata": {},
   "source": [
    "#### Training the model"
   ]
  },
  {
   "cell_type": "code",
   "execution_count": 37,
   "id": "8ce04cd4-b346-4047-9ada-cba681ebed54",
   "metadata": {},
   "outputs": [],
   "source": [
    "### Split Dataset and train\n",
    "(trainingData, testData) = processed.randomSplit((0.85,0.15),seed=42)"
   ]
  },
  {
   "cell_type": "code",
   "execution_count": 30,
   "id": "ab8d8b6b-888f-44c9-99de-7b517cda16f6",
   "metadata": {},
   "outputs": [],
   "source": [
    "#model = LogisticRegression(featuresCol='vector',labelCol='polarity')\n",
    "model = LogisticRegression(labelCol= 'polarity') # regParam=0.008, maxIter=10000\n",
    "#lr = LogisticRegression(regParam=0.008, maxIter=10000, labelCol=\"polarity\")\n",
    "#lrModel = lr.fit(trainingData)"
   ]
  },
  {
   "cell_type": "code",
   "execution_count": 33,
   "id": "2196f0aa-63df-44dd-a2c0-50da0dc6e584",
   "metadata": {},
   "outputs": [],
   "source": [
    "# 2 x 2 x 3 x 3 = 36 times training occurs (it takes a long time)\n",
    "# The elastic net is a regularized regression method that # linearly combines the L1 and L2 penalties of the lasso and ridge methods.\n",
    "paramGrid = ParamGridBuilder() \\\n",
    " .addGrid(model.tol,[0.001, 0.0004]) \\\n",
    " .addGrid(model.threshold, [0.4,0.5,0.6]) \\\n",
    " .addGrid(model.regParam, [0.008,0.0008,0.00008]) \\\n",
    " .addGrid(model.maxIter, [1000,5000,10000]) \\\n",
    " .build()"
   ]
  },
  {
   "cell_type": "code",
   "execution_count": 34,
   "id": "f0c8d847-4324-4bcd-b44b-bdc70bd1acf0",
   "metadata": {},
   "outputs": [],
   "source": [
    "tvs_js = TrainValidationSplit(estimator=model,\n",
    "                          estimatorParamMaps=paramGrid,\n",
    "                          evaluator=MulticlassClassificationEvaluator(labelCol='polarity',predictionCol='prediction',metricName='f1'),\n",
    "                          # 80% of the data will be used for training, 20% for validation.\n",
    "                          trainRatio=0.8)"
   ]
  },
  {
   "cell_type": "code",
   "execution_count": 35,
   "id": "3f215247-eb99-4b0a-aa35-a18756c6ffb9",
   "metadata": {},
   "outputs": [
    {
     "name": "stderr",
     "output_type": "stream",
     "text": [
      "                                                                                \r"
     ]
    }
   ],
   "source": [
    "model_js = tvs_js.fit(trainingData)"
   ]
  },
  {
   "cell_type": "code",
   "execution_count": 38,
   "id": "3ea7c65e-385a-486e-b727-007894a8c607",
   "metadata": {},
   "outputs": [
    {
     "data": {
      "text/plain": [
       "[(0.8073168208187893,\n",
       "  {Param(parent='LogisticRegression_b8e126b2e705', name='tol', doc='the convergence tolerance for iterative algorithms (>= 0).'): 0.001,\n",
       "   Param(parent='LogisticRegression_b8e126b2e705', name='threshold', doc='Threshold in binary classification prediction, in range [0, 1]. If threshold and thresholds are both set, they must match.e.g. if threshold is p, then thresholds must be equal to [1-p, p].'): 0.4,\n",
       "   Param(parent='LogisticRegression_b8e126b2e705', name='regParam', doc='regularization parameter (>= 0).'): 0.008,\n",
       "   Param(parent='LogisticRegression_b8e126b2e705', name='maxIter', doc='max number of iterations (>= 0).'): 1000}),\n",
       " (0.8073168208187893,\n",
       "  {Param(parent='LogisticRegression_b8e126b2e705', name='tol', doc='the convergence tolerance for iterative algorithms (>= 0).'): 0.001,\n",
       "   Param(parent='LogisticRegression_b8e126b2e705', name='threshold', doc='Threshold in binary classification prediction, in range [0, 1]. If threshold and thresholds are both set, they must match.e.g. if threshold is p, then thresholds must be equal to [1-p, p].'): 0.4,\n",
       "   Param(parent='LogisticRegression_b8e126b2e705', name='regParam', doc='regularization parameter (>= 0).'): 0.008,\n",
       "   Param(parent='LogisticRegression_b8e126b2e705', name='maxIter', doc='max number of iterations (>= 0).'): 5000}),\n",
       " (0.8073168208187893,\n",
       "  {Param(parent='LogisticRegression_b8e126b2e705', name='tol', doc='the convergence tolerance for iterative algorithms (>= 0).'): 0.001,\n",
       "   Param(parent='LogisticRegression_b8e126b2e705', name='threshold', doc='Threshold in binary classification prediction, in range [0, 1]. If threshold and thresholds are both set, they must match.e.g. if threshold is p, then thresholds must be equal to [1-p, p].'): 0.4,\n",
       "   Param(parent='LogisticRegression_b8e126b2e705', name='regParam', doc='regularization parameter (>= 0).'): 0.008,\n",
       "   Param(parent='LogisticRegression_b8e126b2e705', name='maxIter', doc='max number of iterations (>= 0).'): 10000}),\n",
       " (0.8031285561474242,\n",
       "  {Param(parent='LogisticRegression_b8e126b2e705', name='tol', doc='the convergence tolerance for iterative algorithms (>= 0).'): 0.001,\n",
       "   Param(parent='LogisticRegression_b8e126b2e705', name='threshold', doc='Threshold in binary classification prediction, in range [0, 1]. If threshold and thresholds are both set, they must match.e.g. if threshold is p, then thresholds must be equal to [1-p, p].'): 0.4,\n",
       "   Param(parent='LogisticRegression_b8e126b2e705', name='regParam', doc='regularization parameter (>= 0).'): 0.0008,\n",
       "   Param(parent='LogisticRegression_b8e126b2e705', name='maxIter', doc='max number of iterations (>= 0).'): 1000}),\n",
       " (0.8031285561474242,\n",
       "  {Param(parent='LogisticRegression_b8e126b2e705', name='tol', doc='the convergence tolerance for iterative algorithms (>= 0).'): 0.001,\n",
       "   Param(parent='LogisticRegression_b8e126b2e705', name='threshold', doc='Threshold in binary classification prediction, in range [0, 1]. If threshold and thresholds are both set, they must match.e.g. if threshold is p, then thresholds must be equal to [1-p, p].'): 0.4,\n",
       "   Param(parent='LogisticRegression_b8e126b2e705', name='regParam', doc='regularization parameter (>= 0).'): 0.0008,\n",
       "   Param(parent='LogisticRegression_b8e126b2e705', name='maxIter', doc='max number of iterations (>= 0).'): 5000}),\n",
       " (0.8031285561474242,\n",
       "  {Param(parent='LogisticRegression_b8e126b2e705', name='tol', doc='the convergence tolerance for iterative algorithms (>= 0).'): 0.001,\n",
       "   Param(parent='LogisticRegression_b8e126b2e705', name='threshold', doc='Threshold in binary classification prediction, in range [0, 1]. If threshold and thresholds are both set, they must match.e.g. if threshold is p, then thresholds must be equal to [1-p, p].'): 0.4,\n",
       "   Param(parent='LogisticRegression_b8e126b2e705', name='regParam', doc='regularization parameter (>= 0).'): 0.0008,\n",
       "   Param(parent='LogisticRegression_b8e126b2e705', name='maxIter', doc='max number of iterations (>= 0).'): 10000}),\n",
       " (0.8011467849899649,\n",
       "  {Param(parent='LogisticRegression_b8e126b2e705', name='tol', doc='the convergence tolerance for iterative algorithms (>= 0).'): 0.001,\n",
       "   Param(parent='LogisticRegression_b8e126b2e705', name='threshold', doc='Threshold in binary classification prediction, in range [0, 1]. If threshold and thresholds are both set, they must match.e.g. if threshold is p, then thresholds must be equal to [1-p, p].'): 0.4,\n",
       "   Param(parent='LogisticRegression_b8e126b2e705', name='regParam', doc='regularization parameter (>= 0).'): 8e-05,\n",
       "   Param(parent='LogisticRegression_b8e126b2e705', name='maxIter', doc='max number of iterations (>= 0).'): 1000}),\n",
       " (0.8011467849899649,\n",
       "  {Param(parent='LogisticRegression_b8e126b2e705', name='tol', doc='the convergence tolerance for iterative algorithms (>= 0).'): 0.001,\n",
       "   Param(parent='LogisticRegression_b8e126b2e705', name='threshold', doc='Threshold in binary classification prediction, in range [0, 1]. If threshold and thresholds are both set, they must match.e.g. if threshold is p, then thresholds must be equal to [1-p, p].'): 0.4,\n",
       "   Param(parent='LogisticRegression_b8e126b2e705', name='regParam', doc='regularization parameter (>= 0).'): 8e-05,\n",
       "   Param(parent='LogisticRegression_b8e126b2e705', name='maxIter', doc='max number of iterations (>= 0).'): 5000}),\n",
       " (0.8011467849899649,\n",
       "  {Param(parent='LogisticRegression_b8e126b2e705', name='tol', doc='the convergence tolerance for iterative algorithms (>= 0).'): 0.001,\n",
       "   Param(parent='LogisticRegression_b8e126b2e705', name='threshold', doc='Threshold in binary classification prediction, in range [0, 1]. If threshold and thresholds are both set, they must match.e.g. if threshold is p, then thresholds must be equal to [1-p, p].'): 0.4,\n",
       "   Param(parent='LogisticRegression_b8e126b2e705', name='regParam', doc='regularization parameter (>= 0).'): 8e-05,\n",
       "   Param(parent='LogisticRegression_b8e126b2e705', name='maxIter', doc='max number of iterations (>= 0).'): 10000}),\n",
       " (0.8073168208187893,\n",
       "  {Param(parent='LogisticRegression_b8e126b2e705', name='tol', doc='the convergence tolerance for iterative algorithms (>= 0).'): 0.001,\n",
       "   Param(parent='LogisticRegression_b8e126b2e705', name='threshold', doc='Threshold in binary classification prediction, in range [0, 1]. If threshold and thresholds are both set, they must match.e.g. if threshold is p, then thresholds must be equal to [1-p, p].'): 0.5,\n",
       "   Param(parent='LogisticRegression_b8e126b2e705', name='regParam', doc='regularization parameter (>= 0).'): 0.008,\n",
       "   Param(parent='LogisticRegression_b8e126b2e705', name='maxIter', doc='max number of iterations (>= 0).'): 1000}),\n",
       " (0.8073168208187893,\n",
       "  {Param(parent='LogisticRegression_b8e126b2e705', name='tol', doc='the convergence tolerance for iterative algorithms (>= 0).'): 0.001,\n",
       "   Param(parent='LogisticRegression_b8e126b2e705', name='threshold', doc='Threshold in binary classification prediction, in range [0, 1]. If threshold and thresholds are both set, they must match.e.g. if threshold is p, then thresholds must be equal to [1-p, p].'): 0.5,\n",
       "   Param(parent='LogisticRegression_b8e126b2e705', name='regParam', doc='regularization parameter (>= 0).'): 0.008,\n",
       "   Param(parent='LogisticRegression_b8e126b2e705', name='maxIter', doc='max number of iterations (>= 0).'): 5000}),\n",
       " (0.8073168208187893,\n",
       "  {Param(parent='LogisticRegression_b8e126b2e705', name='tol', doc='the convergence tolerance for iterative algorithms (>= 0).'): 0.001,\n",
       "   Param(parent='LogisticRegression_b8e126b2e705', name='threshold', doc='Threshold in binary classification prediction, in range [0, 1]. If threshold and thresholds are both set, they must match.e.g. if threshold is p, then thresholds must be equal to [1-p, p].'): 0.5,\n",
       "   Param(parent='LogisticRegression_b8e126b2e705', name='regParam', doc='regularization parameter (>= 0).'): 0.008,\n",
       "   Param(parent='LogisticRegression_b8e126b2e705', name='maxIter', doc='max number of iterations (>= 0).'): 10000}),\n",
       " (0.8031285561474242,\n",
       "  {Param(parent='LogisticRegression_b8e126b2e705', name='tol', doc='the convergence tolerance for iterative algorithms (>= 0).'): 0.001,\n",
       "   Param(parent='LogisticRegression_b8e126b2e705', name='threshold', doc='Threshold in binary classification prediction, in range [0, 1]. If threshold and thresholds are both set, they must match.e.g. if threshold is p, then thresholds must be equal to [1-p, p].'): 0.5,\n",
       "   Param(parent='LogisticRegression_b8e126b2e705', name='regParam', doc='regularization parameter (>= 0).'): 0.0008,\n",
       "   Param(parent='LogisticRegression_b8e126b2e705', name='maxIter', doc='max number of iterations (>= 0).'): 1000}),\n",
       " (0.8031285561474242,\n",
       "  {Param(parent='LogisticRegression_b8e126b2e705', name='tol', doc='the convergence tolerance for iterative algorithms (>= 0).'): 0.001,\n",
       "   Param(parent='LogisticRegression_b8e126b2e705', name='threshold', doc='Threshold in binary classification prediction, in range [0, 1]. If threshold and thresholds are both set, they must match.e.g. if threshold is p, then thresholds must be equal to [1-p, p].'): 0.5,\n",
       "   Param(parent='LogisticRegression_b8e126b2e705', name='regParam', doc='regularization parameter (>= 0).'): 0.0008,\n",
       "   Param(parent='LogisticRegression_b8e126b2e705', name='maxIter', doc='max number of iterations (>= 0).'): 5000}),\n",
       " (0.8031285561474242,\n",
       "  {Param(parent='LogisticRegression_b8e126b2e705', name='tol', doc='the convergence tolerance for iterative algorithms (>= 0).'): 0.001,\n",
       "   Param(parent='LogisticRegression_b8e126b2e705', name='threshold', doc='Threshold in binary classification prediction, in range [0, 1]. If threshold and thresholds are both set, they must match.e.g. if threshold is p, then thresholds must be equal to [1-p, p].'): 0.5,\n",
       "   Param(parent='LogisticRegression_b8e126b2e705', name='regParam', doc='regularization parameter (>= 0).'): 0.0008,\n",
       "   Param(parent='LogisticRegression_b8e126b2e705', name='maxIter', doc='max number of iterations (>= 0).'): 10000}),\n",
       " (0.8011467849899649,\n",
       "  {Param(parent='LogisticRegression_b8e126b2e705', name='tol', doc='the convergence tolerance for iterative algorithms (>= 0).'): 0.001,\n",
       "   Param(parent='LogisticRegression_b8e126b2e705', name='threshold', doc='Threshold in binary classification prediction, in range [0, 1]. If threshold and thresholds are both set, they must match.e.g. if threshold is p, then thresholds must be equal to [1-p, p].'): 0.5,\n",
       "   Param(parent='LogisticRegression_b8e126b2e705', name='regParam', doc='regularization parameter (>= 0).'): 8e-05,\n",
       "   Param(parent='LogisticRegression_b8e126b2e705', name='maxIter', doc='max number of iterations (>= 0).'): 1000}),\n",
       " (0.8011467849899649,\n",
       "  {Param(parent='LogisticRegression_b8e126b2e705', name='tol', doc='the convergence tolerance for iterative algorithms (>= 0).'): 0.001,\n",
       "   Param(parent='LogisticRegression_b8e126b2e705', name='threshold', doc='Threshold in binary classification prediction, in range [0, 1]. If threshold and thresholds are both set, they must match.e.g. if threshold is p, then thresholds must be equal to [1-p, p].'): 0.5,\n",
       "   Param(parent='LogisticRegression_b8e126b2e705', name='regParam', doc='regularization parameter (>= 0).'): 8e-05,\n",
       "   Param(parent='LogisticRegression_b8e126b2e705', name='maxIter', doc='max number of iterations (>= 0).'): 5000}),\n",
       " (0.8011467849899649,\n",
       "  {Param(parent='LogisticRegression_b8e126b2e705', name='tol', doc='the convergence tolerance for iterative algorithms (>= 0).'): 0.001,\n",
       "   Param(parent='LogisticRegression_b8e126b2e705', name='threshold', doc='Threshold in binary classification prediction, in range [0, 1]. If threshold and thresholds are both set, they must match.e.g. if threshold is p, then thresholds must be equal to [1-p, p].'): 0.5,\n",
       "   Param(parent='LogisticRegression_b8e126b2e705', name='regParam', doc='regularization parameter (>= 0).'): 8e-05,\n",
       "   Param(parent='LogisticRegression_b8e126b2e705', name='maxIter', doc='max number of iterations (>= 0).'): 10000}),\n",
       " (0.8073168208187893,\n",
       "  {Param(parent='LogisticRegression_b8e126b2e705', name='tol', doc='the convergence tolerance for iterative algorithms (>= 0).'): 0.001,\n",
       "   Param(parent='LogisticRegression_b8e126b2e705', name='threshold', doc='Threshold in binary classification prediction, in range [0, 1]. If threshold and thresholds are both set, they must match.e.g. if threshold is p, then thresholds must be equal to [1-p, p].'): 0.6,\n",
       "   Param(parent='LogisticRegression_b8e126b2e705', name='regParam', doc='regularization parameter (>= 0).'): 0.008,\n",
       "   Param(parent='LogisticRegression_b8e126b2e705', name='maxIter', doc='max number of iterations (>= 0).'): 1000}),\n",
       " (0.8073168208187893,\n",
       "  {Param(parent='LogisticRegression_b8e126b2e705', name='tol', doc='the convergence tolerance for iterative algorithms (>= 0).'): 0.001,\n",
       "   Param(parent='LogisticRegression_b8e126b2e705', name='threshold', doc='Threshold in binary classification prediction, in range [0, 1]. If threshold and thresholds are both set, they must match.e.g. if threshold is p, then thresholds must be equal to [1-p, p].'): 0.6,\n",
       "   Param(parent='LogisticRegression_b8e126b2e705', name='regParam', doc='regularization parameter (>= 0).'): 0.008,\n",
       "   Param(parent='LogisticRegression_b8e126b2e705', name='maxIter', doc='max number of iterations (>= 0).'): 5000}),\n",
       " (0.8073168208187893,\n",
       "  {Param(parent='LogisticRegression_b8e126b2e705', name='tol', doc='the convergence tolerance for iterative algorithms (>= 0).'): 0.001,\n",
       "   Param(parent='LogisticRegression_b8e126b2e705', name='threshold', doc='Threshold in binary classification prediction, in range [0, 1]. If threshold and thresholds are both set, they must match.e.g. if threshold is p, then thresholds must be equal to [1-p, p].'): 0.6,\n",
       "   Param(parent='LogisticRegression_b8e126b2e705', name='regParam', doc='regularization parameter (>= 0).'): 0.008,\n",
       "   Param(parent='LogisticRegression_b8e126b2e705', name='maxIter', doc='max number of iterations (>= 0).'): 10000}),\n",
       " (0.8031285561474242,\n",
       "  {Param(parent='LogisticRegression_b8e126b2e705', name='tol', doc='the convergence tolerance for iterative algorithms (>= 0).'): 0.001,\n",
       "   Param(parent='LogisticRegression_b8e126b2e705', name='threshold', doc='Threshold in binary classification prediction, in range [0, 1]. If threshold and thresholds are both set, they must match.e.g. if threshold is p, then thresholds must be equal to [1-p, p].'): 0.6,\n",
       "   Param(parent='LogisticRegression_b8e126b2e705', name='regParam', doc='regularization parameter (>= 0).'): 0.0008,\n",
       "   Param(parent='LogisticRegression_b8e126b2e705', name='maxIter', doc='max number of iterations (>= 0).'): 1000}),\n",
       " (0.8031285561474242,\n",
       "  {Param(parent='LogisticRegression_b8e126b2e705', name='tol', doc='the convergence tolerance for iterative algorithms (>= 0).'): 0.001,\n",
       "   Param(parent='LogisticRegression_b8e126b2e705', name='threshold', doc='Threshold in binary classification prediction, in range [0, 1]. If threshold and thresholds are both set, they must match.e.g. if threshold is p, then thresholds must be equal to [1-p, p].'): 0.6,\n",
       "   Param(parent='LogisticRegression_b8e126b2e705', name='regParam', doc='regularization parameter (>= 0).'): 0.0008,\n",
       "   Param(parent='LogisticRegression_b8e126b2e705', name='maxIter', doc='max number of iterations (>= 0).'): 5000}),\n",
       " (0.8031285561474242,\n",
       "  {Param(parent='LogisticRegression_b8e126b2e705', name='tol', doc='the convergence tolerance for iterative algorithms (>= 0).'): 0.001,\n",
       "   Param(parent='LogisticRegression_b8e126b2e705', name='threshold', doc='Threshold in binary classification prediction, in range [0, 1]. If threshold and thresholds are both set, they must match.e.g. if threshold is p, then thresholds must be equal to [1-p, p].'): 0.6,\n",
       "   Param(parent='LogisticRegression_b8e126b2e705', name='regParam', doc='regularization parameter (>= 0).'): 0.0008,\n",
       "   Param(parent='LogisticRegression_b8e126b2e705', name='maxIter', doc='max number of iterations (>= 0).'): 10000}),\n",
       " (0.8011467849899649,\n",
       "  {Param(parent='LogisticRegression_b8e126b2e705', name='tol', doc='the convergence tolerance for iterative algorithms (>= 0).'): 0.001,\n",
       "   Param(parent='LogisticRegression_b8e126b2e705', name='threshold', doc='Threshold in binary classification prediction, in range [0, 1]. If threshold and thresholds are both set, they must match.e.g. if threshold is p, then thresholds must be equal to [1-p, p].'): 0.6,\n",
       "   Param(parent='LogisticRegression_b8e126b2e705', name='regParam', doc='regularization parameter (>= 0).'): 8e-05,\n",
       "   Param(parent='LogisticRegression_b8e126b2e705', name='maxIter', doc='max number of iterations (>= 0).'): 1000}),\n",
       " (0.8011467849899649,\n",
       "  {Param(parent='LogisticRegression_b8e126b2e705', name='tol', doc='the convergence tolerance for iterative algorithms (>= 0).'): 0.001,\n",
       "   Param(parent='LogisticRegression_b8e126b2e705', name='threshold', doc='Threshold in binary classification prediction, in range [0, 1]. If threshold and thresholds are both set, they must match.e.g. if threshold is p, then thresholds must be equal to [1-p, p].'): 0.6,\n",
       "   Param(parent='LogisticRegression_b8e126b2e705', name='regParam', doc='regularization parameter (>= 0).'): 8e-05,\n",
       "   Param(parent='LogisticRegression_b8e126b2e705', name='maxIter', doc='max number of iterations (>= 0).'): 5000}),\n",
       " (0.8011467849899649,\n",
       "  {Param(parent='LogisticRegression_b8e126b2e705', name='tol', doc='the convergence tolerance for iterative algorithms (>= 0).'): 0.001,\n",
       "   Param(parent='LogisticRegression_b8e126b2e705', name='threshold', doc='Threshold in binary classification prediction, in range [0, 1]. If threshold and thresholds are both set, they must match.e.g. if threshold is p, then thresholds must be equal to [1-p, p].'): 0.6,\n",
       "   Param(parent='LogisticRegression_b8e126b2e705', name='regParam', doc='regularization parameter (>= 0).'): 8e-05,\n",
       "   Param(parent='LogisticRegression_b8e126b2e705', name='maxIter', doc='max number of iterations (>= 0).'): 10000}),\n",
       " (0.8072540347977497,\n",
       "  {Param(parent='LogisticRegression_b8e126b2e705', name='tol', doc='the convergence tolerance for iterative algorithms (>= 0).'): 0.0004,\n",
       "   Param(parent='LogisticRegression_b8e126b2e705', name='threshold', doc='Threshold in binary classification prediction, in range [0, 1]. If threshold and thresholds are both set, they must match.e.g. if threshold is p, then thresholds must be equal to [1-p, p].'): 0.4,\n",
       "   Param(parent='LogisticRegression_b8e126b2e705', name='regParam', doc='regularization parameter (>= 0).'): 0.008,\n",
       "   Param(parent='LogisticRegression_b8e126b2e705', name='maxIter', doc='max number of iterations (>= 0).'): 1000}),\n",
       " (0.8072540347977497,\n",
       "  {Param(parent='LogisticRegression_b8e126b2e705', name='tol', doc='the convergence tolerance for iterative algorithms (>= 0).'): 0.0004,\n",
       "   Param(parent='LogisticRegression_b8e126b2e705', name='threshold', doc='Threshold in binary classification prediction, in range [0, 1]. If threshold and thresholds are both set, they must match.e.g. if threshold is p, then thresholds must be equal to [1-p, p].'): 0.4,\n",
       "   Param(parent='LogisticRegression_b8e126b2e705', name='regParam', doc='regularization parameter (>= 0).'): 0.008,\n",
       "   Param(parent='LogisticRegression_b8e126b2e705', name='maxIter', doc='max number of iterations (>= 0).'): 5000}),\n",
       " (0.8072540347977497,\n",
       "  {Param(parent='LogisticRegression_b8e126b2e705', name='tol', doc='the convergence tolerance for iterative algorithms (>= 0).'): 0.0004,\n",
       "   Param(parent='LogisticRegression_b8e126b2e705', name='threshold', doc='Threshold in binary classification prediction, in range [0, 1]. If threshold and thresholds are both set, they must match.e.g. if threshold is p, then thresholds must be equal to [1-p, p].'): 0.4,\n",
       "   Param(parent='LogisticRegression_b8e126b2e705', name='regParam', doc='regularization parameter (>= 0).'): 0.008,\n",
       "   Param(parent='LogisticRegression_b8e126b2e705', name='maxIter', doc='max number of iterations (>= 0).'): 10000}),\n",
       " (0.8032659158723108,\n",
       "  {Param(parent='LogisticRegression_b8e126b2e705', name='tol', doc='the convergence tolerance for iterative algorithms (>= 0).'): 0.0004,\n",
       "   Param(parent='LogisticRegression_b8e126b2e705', name='threshold', doc='Threshold in binary classification prediction, in range [0, 1]. If threshold and thresholds are both set, they must match.e.g. if threshold is p, then thresholds must be equal to [1-p, p].'): 0.4,\n",
       "   Param(parent='LogisticRegression_b8e126b2e705', name='regParam', doc='regularization parameter (>= 0).'): 0.0008,\n",
       "   Param(parent='LogisticRegression_b8e126b2e705', name='maxIter', doc='max number of iterations (>= 0).'): 1000}),\n",
       " (0.8032659158723108,\n",
       "  {Param(parent='LogisticRegression_b8e126b2e705', name='tol', doc='the convergence tolerance for iterative algorithms (>= 0).'): 0.0004,\n",
       "   Param(parent='LogisticRegression_b8e126b2e705', name='threshold', doc='Threshold in binary classification prediction, in range [0, 1]. If threshold and thresholds are both set, they must match.e.g. if threshold is p, then thresholds must be equal to [1-p, p].'): 0.4,\n",
       "   Param(parent='LogisticRegression_b8e126b2e705', name='regParam', doc='regularization parameter (>= 0).'): 0.0008,\n",
       "   Param(parent='LogisticRegression_b8e126b2e705', name='maxIter', doc='max number of iterations (>= 0).'): 5000}),\n",
       " (0.8032659158723108,\n",
       "  {Param(parent='LogisticRegression_b8e126b2e705', name='tol', doc='the convergence tolerance for iterative algorithms (>= 0).'): 0.0004,\n",
       "   Param(parent='LogisticRegression_b8e126b2e705', name='threshold', doc='Threshold in binary classification prediction, in range [0, 1]. If threshold and thresholds are both set, they must match.e.g. if threshold is p, then thresholds must be equal to [1-p, p].'): 0.4,\n",
       "   Param(parent='LogisticRegression_b8e126b2e705', name='regParam', doc='regularization parameter (>= 0).'): 0.0008,\n",
       "   Param(parent='LogisticRegression_b8e126b2e705', name='maxIter', doc='max number of iterations (>= 0).'): 10000}),\n",
       " (0.801041242838449,\n",
       "  {Param(parent='LogisticRegression_b8e126b2e705', name='tol', doc='the convergence tolerance for iterative algorithms (>= 0).'): 0.0004,\n",
       "   Param(parent='LogisticRegression_b8e126b2e705', name='threshold', doc='Threshold in binary classification prediction, in range [0, 1]. If threshold and thresholds are both set, they must match.e.g. if threshold is p, then thresholds must be equal to [1-p, p].'): 0.4,\n",
       "   Param(parent='LogisticRegression_b8e126b2e705', name='regParam', doc='regularization parameter (>= 0).'): 8e-05,\n",
       "   Param(parent='LogisticRegression_b8e126b2e705', name='maxIter', doc='max number of iterations (>= 0).'): 1000}),\n",
       " (0.801041242838449,\n",
       "  {Param(parent='LogisticRegression_b8e126b2e705', name='tol', doc='the convergence tolerance for iterative algorithms (>= 0).'): 0.0004,\n",
       "   Param(parent='LogisticRegression_b8e126b2e705', name='threshold', doc='Threshold in binary classification prediction, in range [0, 1]. If threshold and thresholds are both set, they must match.e.g. if threshold is p, then thresholds must be equal to [1-p, p].'): 0.4,\n",
       "   Param(parent='LogisticRegression_b8e126b2e705', name='regParam', doc='regularization parameter (>= 0).'): 8e-05,\n",
       "   Param(parent='LogisticRegression_b8e126b2e705', name='maxIter', doc='max number of iterations (>= 0).'): 5000}),\n",
       " (0.801041242838449,\n",
       "  {Param(parent='LogisticRegression_b8e126b2e705', name='tol', doc='the convergence tolerance for iterative algorithms (>= 0).'): 0.0004,\n",
       "   Param(parent='LogisticRegression_b8e126b2e705', name='threshold', doc='Threshold in binary classification prediction, in range [0, 1]. If threshold and thresholds are both set, they must match.e.g. if threshold is p, then thresholds must be equal to [1-p, p].'): 0.4,\n",
       "   Param(parent='LogisticRegression_b8e126b2e705', name='regParam', doc='regularization parameter (>= 0).'): 8e-05,\n",
       "   Param(parent='LogisticRegression_b8e126b2e705', name='maxIter', doc='max number of iterations (>= 0).'): 10000}),\n",
       " (0.8072540347977497,\n",
       "  {Param(parent='LogisticRegression_b8e126b2e705', name='tol', doc='the convergence tolerance for iterative algorithms (>= 0).'): 0.0004,\n",
       "   Param(parent='LogisticRegression_b8e126b2e705', name='threshold', doc='Threshold in binary classification prediction, in range [0, 1]. If threshold and thresholds are both set, they must match.e.g. if threshold is p, then thresholds must be equal to [1-p, p].'): 0.5,\n",
       "   Param(parent='LogisticRegression_b8e126b2e705', name='regParam', doc='regularization parameter (>= 0).'): 0.008,\n",
       "   Param(parent='LogisticRegression_b8e126b2e705', name='maxIter', doc='max number of iterations (>= 0).'): 1000}),\n",
       " (0.8072540347977497,\n",
       "  {Param(parent='LogisticRegression_b8e126b2e705', name='tol', doc='the convergence tolerance for iterative algorithms (>= 0).'): 0.0004,\n",
       "   Param(parent='LogisticRegression_b8e126b2e705', name='threshold', doc='Threshold in binary classification prediction, in range [0, 1]. If threshold and thresholds are both set, they must match.e.g. if threshold is p, then thresholds must be equal to [1-p, p].'): 0.5,\n",
       "   Param(parent='LogisticRegression_b8e126b2e705', name='regParam', doc='regularization parameter (>= 0).'): 0.008,\n",
       "   Param(parent='LogisticRegression_b8e126b2e705', name='maxIter', doc='max number of iterations (>= 0).'): 5000}),\n",
       " (0.8072540347977497,\n",
       "  {Param(parent='LogisticRegression_b8e126b2e705', name='tol', doc='the convergence tolerance for iterative algorithms (>= 0).'): 0.0004,\n",
       "   Param(parent='LogisticRegression_b8e126b2e705', name='threshold', doc='Threshold in binary classification prediction, in range [0, 1]. If threshold and thresholds are both set, they must match.e.g. if threshold is p, then thresholds must be equal to [1-p, p].'): 0.5,\n",
       "   Param(parent='LogisticRegression_b8e126b2e705', name='regParam', doc='regularization parameter (>= 0).'): 0.008,\n",
       "   Param(parent='LogisticRegression_b8e126b2e705', name='maxIter', doc='max number of iterations (>= 0).'): 10000}),\n",
       " (0.8032659158723108,\n",
       "  {Param(parent='LogisticRegression_b8e126b2e705', name='tol', doc='the convergence tolerance for iterative algorithms (>= 0).'): 0.0004,\n",
       "   Param(parent='LogisticRegression_b8e126b2e705', name='threshold', doc='Threshold in binary classification prediction, in range [0, 1]. If threshold and thresholds are both set, they must match.e.g. if threshold is p, then thresholds must be equal to [1-p, p].'): 0.5,\n",
       "   Param(parent='LogisticRegression_b8e126b2e705', name='regParam', doc='regularization parameter (>= 0).'): 0.0008,\n",
       "   Param(parent='LogisticRegression_b8e126b2e705', name='maxIter', doc='max number of iterations (>= 0).'): 1000}),\n",
       " (0.8032659158723108,\n",
       "  {Param(parent='LogisticRegression_b8e126b2e705', name='tol', doc='the convergence tolerance for iterative algorithms (>= 0).'): 0.0004,\n",
       "   Param(parent='LogisticRegression_b8e126b2e705', name='threshold', doc='Threshold in binary classification prediction, in range [0, 1]. If threshold and thresholds are both set, they must match.e.g. if threshold is p, then thresholds must be equal to [1-p, p].'): 0.5,\n",
       "   Param(parent='LogisticRegression_b8e126b2e705', name='regParam', doc='regularization parameter (>= 0).'): 0.0008,\n",
       "   Param(parent='LogisticRegression_b8e126b2e705', name='maxIter', doc='max number of iterations (>= 0).'): 5000}),\n",
       " (0.8032659158723108,\n",
       "  {Param(parent='LogisticRegression_b8e126b2e705', name='tol', doc='the convergence tolerance for iterative algorithms (>= 0).'): 0.0004,\n",
       "   Param(parent='LogisticRegression_b8e126b2e705', name='threshold', doc='Threshold in binary classification prediction, in range [0, 1]. If threshold and thresholds are both set, they must match.e.g. if threshold is p, then thresholds must be equal to [1-p, p].'): 0.5,\n",
       "   Param(parent='LogisticRegression_b8e126b2e705', name='regParam', doc='regularization parameter (>= 0).'): 0.0008,\n",
       "   Param(parent='LogisticRegression_b8e126b2e705', name='maxIter', doc='max number of iterations (>= 0).'): 10000}),\n",
       " (0.801041242838449,\n",
       "  {Param(parent='LogisticRegression_b8e126b2e705', name='tol', doc='the convergence tolerance for iterative algorithms (>= 0).'): 0.0004,\n",
       "   Param(parent='LogisticRegression_b8e126b2e705', name='threshold', doc='Threshold in binary classification prediction, in range [0, 1]. If threshold and thresholds are both set, they must match.e.g. if threshold is p, then thresholds must be equal to [1-p, p].'): 0.5,\n",
       "   Param(parent='LogisticRegression_b8e126b2e705', name='regParam', doc='regularization parameter (>= 0).'): 8e-05,\n",
       "   Param(parent='LogisticRegression_b8e126b2e705', name='maxIter', doc='max number of iterations (>= 0).'): 1000}),\n",
       " (0.801041242838449,\n",
       "  {Param(parent='LogisticRegression_b8e126b2e705', name='tol', doc='the convergence tolerance for iterative algorithms (>= 0).'): 0.0004,\n",
       "   Param(parent='LogisticRegression_b8e126b2e705', name='threshold', doc='Threshold in binary classification prediction, in range [0, 1]. If threshold and thresholds are both set, they must match.e.g. if threshold is p, then thresholds must be equal to [1-p, p].'): 0.5,\n",
       "   Param(parent='LogisticRegression_b8e126b2e705', name='regParam', doc='regularization parameter (>= 0).'): 8e-05,\n",
       "   Param(parent='LogisticRegression_b8e126b2e705', name='maxIter', doc='max number of iterations (>= 0).'): 5000}),\n",
       " (0.801041242838449,\n",
       "  {Param(parent='LogisticRegression_b8e126b2e705', name='tol', doc='the convergence tolerance for iterative algorithms (>= 0).'): 0.0004,\n",
       "   Param(parent='LogisticRegression_b8e126b2e705', name='threshold', doc='Threshold in binary classification prediction, in range [0, 1]. If threshold and thresholds are both set, they must match.e.g. if threshold is p, then thresholds must be equal to [1-p, p].'): 0.5,\n",
       "   Param(parent='LogisticRegression_b8e126b2e705', name='regParam', doc='regularization parameter (>= 0).'): 8e-05,\n",
       "   Param(parent='LogisticRegression_b8e126b2e705', name='maxIter', doc='max number of iterations (>= 0).'): 10000}),\n",
       " (0.8072540347977497,\n",
       "  {Param(parent='LogisticRegression_b8e126b2e705', name='tol', doc='the convergence tolerance for iterative algorithms (>= 0).'): 0.0004,\n",
       "   Param(parent='LogisticRegression_b8e126b2e705', name='threshold', doc='Threshold in binary classification prediction, in range [0, 1]. If threshold and thresholds are both set, they must match.e.g. if threshold is p, then thresholds must be equal to [1-p, p].'): 0.6,\n",
       "   Param(parent='LogisticRegression_b8e126b2e705', name='regParam', doc='regularization parameter (>= 0).'): 0.008,\n",
       "   Param(parent='LogisticRegression_b8e126b2e705', name='maxIter', doc='max number of iterations (>= 0).'): 1000}),\n",
       " (0.8072540347977497,\n",
       "  {Param(parent='LogisticRegression_b8e126b2e705', name='tol', doc='the convergence tolerance for iterative algorithms (>= 0).'): 0.0004,\n",
       "   Param(parent='LogisticRegression_b8e126b2e705', name='threshold', doc='Threshold in binary classification prediction, in range [0, 1]. If threshold and thresholds are both set, they must match.e.g. if threshold is p, then thresholds must be equal to [1-p, p].'): 0.6,\n",
       "   Param(parent='LogisticRegression_b8e126b2e705', name='regParam', doc='regularization parameter (>= 0).'): 0.008,\n",
       "   Param(parent='LogisticRegression_b8e126b2e705', name='maxIter', doc='max number of iterations (>= 0).'): 5000}),\n",
       " (0.8072540347977497,\n",
       "  {Param(parent='LogisticRegression_b8e126b2e705', name='tol', doc='the convergence tolerance for iterative algorithms (>= 0).'): 0.0004,\n",
       "   Param(parent='LogisticRegression_b8e126b2e705', name='threshold', doc='Threshold in binary classification prediction, in range [0, 1]. If threshold and thresholds are both set, they must match.e.g. if threshold is p, then thresholds must be equal to [1-p, p].'): 0.6,\n",
       "   Param(parent='LogisticRegression_b8e126b2e705', name='regParam', doc='regularization parameter (>= 0).'): 0.008,\n",
       "   Param(parent='LogisticRegression_b8e126b2e705', name='maxIter', doc='max number of iterations (>= 0).'): 10000}),\n",
       " (0.8032659158723108,\n",
       "  {Param(parent='LogisticRegression_b8e126b2e705', name='tol', doc='the convergence tolerance for iterative algorithms (>= 0).'): 0.0004,\n",
       "   Param(parent='LogisticRegression_b8e126b2e705', name='threshold', doc='Threshold in binary classification prediction, in range [0, 1]. If threshold and thresholds are both set, they must match.e.g. if threshold is p, then thresholds must be equal to [1-p, p].'): 0.6,\n",
       "   Param(parent='LogisticRegression_b8e126b2e705', name='regParam', doc='regularization parameter (>= 0).'): 0.0008,\n",
       "   Param(parent='LogisticRegression_b8e126b2e705', name='maxIter', doc='max number of iterations (>= 0).'): 1000}),\n",
       " (0.8032659158723108,\n",
       "  {Param(parent='LogisticRegression_b8e126b2e705', name='tol', doc='the convergence tolerance for iterative algorithms (>= 0).'): 0.0004,\n",
       "   Param(parent='LogisticRegression_b8e126b2e705', name='threshold', doc='Threshold in binary classification prediction, in range [0, 1]. If threshold and thresholds are both set, they must match.e.g. if threshold is p, then thresholds must be equal to [1-p, p].'): 0.6,\n",
       "   Param(parent='LogisticRegression_b8e126b2e705', name='regParam', doc='regularization parameter (>= 0).'): 0.0008,\n",
       "   Param(parent='LogisticRegression_b8e126b2e705', name='maxIter', doc='max number of iterations (>= 0).'): 5000}),\n",
       " (0.8032659158723108,\n",
       "  {Param(parent='LogisticRegression_b8e126b2e705', name='tol', doc='the convergence tolerance for iterative algorithms (>= 0).'): 0.0004,\n",
       "   Param(parent='LogisticRegression_b8e126b2e705', name='threshold', doc='Threshold in binary classification prediction, in range [0, 1]. If threshold and thresholds are both set, they must match.e.g. if threshold is p, then thresholds must be equal to [1-p, p].'): 0.6,\n",
       "   Param(parent='LogisticRegression_b8e126b2e705', name='regParam', doc='regularization parameter (>= 0).'): 0.0008,\n",
       "   Param(parent='LogisticRegression_b8e126b2e705', name='maxIter', doc='max number of iterations (>= 0).'): 10000}),\n",
       " (0.801041242838449,\n",
       "  {Param(parent='LogisticRegression_b8e126b2e705', name='tol', doc='the convergence tolerance for iterative algorithms (>= 0).'): 0.0004,\n",
       "   Param(parent='LogisticRegression_b8e126b2e705', name='threshold', doc='Threshold in binary classification prediction, in range [0, 1]. If threshold and thresholds are both set, they must match.e.g. if threshold is p, then thresholds must be equal to [1-p, p].'): 0.6,\n",
       "   Param(parent='LogisticRegression_b8e126b2e705', name='regParam', doc='regularization parameter (>= 0).'): 8e-05,\n",
       "   Param(parent='LogisticRegression_b8e126b2e705', name='maxIter', doc='max number of iterations (>= 0).'): 1000}),\n",
       " (0.801041242838449,\n",
       "  {Param(parent='LogisticRegression_b8e126b2e705', name='tol', doc='the convergence tolerance for iterative algorithms (>= 0).'): 0.0004,\n",
       "   Param(parent='LogisticRegression_b8e126b2e705', name='threshold', doc='Threshold in binary classification prediction, in range [0, 1]. If threshold and thresholds are both set, they must match.e.g. if threshold is p, then thresholds must be equal to [1-p, p].'): 0.6,\n",
       "   Param(parent='LogisticRegression_b8e126b2e705', name='regParam', doc='regularization parameter (>= 0).'): 8e-05,\n",
       "   Param(parent='LogisticRegression_b8e126b2e705', name='maxIter', doc='max number of iterations (>= 0).'): 5000}),\n",
       " (0.801041242838449,\n",
       "  {Param(parent='LogisticRegression_b8e126b2e705', name='tol', doc='the convergence tolerance for iterative algorithms (>= 0).'): 0.0004,\n",
       "   Param(parent='LogisticRegression_b8e126b2e705', name='threshold', doc='Threshold in binary classification prediction, in range [0, 1]. If threshold and thresholds are both set, they must match.e.g. if threshold is p, then thresholds must be equal to [1-p, p].'): 0.6,\n",
       "   Param(parent='LogisticRegression_b8e126b2e705', name='regParam', doc='regularization parameter (>= 0).'): 8e-05,\n",
       "   Param(parent='LogisticRegression_b8e126b2e705', name='maxIter', doc='max number of iterations (>= 0).'): 10000})]"
      ]
     },
     "execution_count": 38,
     "metadata": {},
     "output_type": "execute_result"
    }
   ],
   "source": [
    "# View all results (accuracy) by each params\n",
    "list(zip(model_js.validationMetrics, model_js.getEstimatorParamMaps()))"
   ]
  },
  {
   "cell_type": "code",
   "execution_count": 38,
   "id": "5198c43a-64cf-4543-bb63-eea98519527e",
   "metadata": {},
   "outputs": [],
   "source": [
    "# set seed for reproducibility\n",
    "#(trainingData, testData) = processed.randomSplit((0.8,0.2),seed=42)\n",
    "#print(\"Training Dataset Count: \" + str(trainingData.count()))\n",
    "#print(\"Test Dataset Count: \" + str(testData.count()))\n",
    "\n",
    "#lr = LogisticRegression(regParam=0.008, maxIter=10000, labelCol=\"polarity\")\n",
    "#lrModel = lr.fit(trainingData)"
   ]
  },
  {
   "cell_type": "code",
   "execution_count": 39,
   "id": "9c5b7ec7-6e63-4505-9536-bfa051fb70a3",
   "metadata": {},
   "outputs": [],
   "source": [
    "### Split Dataset and train\n",
    "(trainingData, testData) = tweet_data.randomSplit((0.85,0.15),seed=42)"
   ]
  },
  {
   "cell_type": "code",
   "execution_count": 40,
   "id": "a9ace678-5f57-4a3d-840f-24021219860f",
   "metadata": {},
   "outputs": [
    {
     "name": "stderr",
     "output_type": "stream",
     "text": [
      "                                                                                \r"
     ]
    }
   ],
   "source": [
    "# setup the pipeline for the best parameter\n",
    "best_model_js = LogisticRegression(labelCol= 'polarity',regParam=0.008,tol=0.001,threshold=0.4, maxIter=1000) #\n",
    "# Create the pipeline\n",
    "pipeline_js = Pipeline(\n",
    "    stages=[document_assembler, \n",
    "            tokenizer,\n",
    "            normalizer,\n",
    "            stopwords_cleaner, \n",
    "            stemmer, \n",
    "            finisher,\n",
    "            countVectors,\n",
    "            best_model_js\n",
    "            ])\n",
    "optModel_js = pipeline_js.fit(trainingData)"
   ]
  },
  {
   "cell_type": "markdown",
   "id": "755690a6",
   "metadata": {},
   "source": [
    "#### Evaluating model"
   ]
  },
  {
   "cell_type": "code",
   "execution_count": 41,
   "id": "61d9cb1c",
   "metadata": {},
   "outputs": [
    {
     "name": "stderr",
     "output_type": "stream",
     "text": [
      "[Stage 242:>                                                        (0 + 1) / 1]\r"
     ]
    },
    {
     "name": "stdout",
     "output_type": "stream",
     "text": [
      "+--------+----------+\n",
      "|polarity|prediction|\n",
      "+--------+----------+\n",
      "|       0|       0.0|\n",
      "|       1|       1.0|\n",
      "|       0|       1.0|\n",
      "|       2|       1.0|\n",
      "|       1|       1.0|\n",
      "|       0|       2.0|\n",
      "|       1|       1.0|\n",
      "|       0|       0.0|\n",
      "|       2|       2.0|\n",
      "|       0|       0.0|\n",
      "+--------+----------+\n",
      "only showing top 10 rows\n",
      "\n"
     ]
    },
    {
     "name": "stderr",
     "output_type": "stream",
     "text": [
      "                                                                                \r"
     ]
    }
   ],
   "source": [
    "predictions = optModel_js.transform(testData)\n",
    "# show polarity and prediction columns.\n",
    "predictions.select('polarity','prediction').show(10,truncate=50)"
   ]
  },
  {
   "cell_type": "code",
   "execution_count": 42,
   "id": "fb265e23",
   "metadata": {},
   "outputs": [
    {
     "name": "stderr",
     "output_type": "stream",
     "text": [
      "[Stage 243:==========================================>              (3 + 1) / 4]\r"
     ]
    },
    {
     "name": "stdout",
     "output_type": "stream",
     "text": [
      "Accuracy: 0.8146702169458271\n"
     ]
    },
    {
     "name": "stderr",
     "output_type": "stream",
     "text": [
      "                                                                                \r"
     ]
    }
   ],
   "source": [
    "# Predictions on our - Test Dataset.\n",
    "#predictions = pipelineFit.transform(test_tweet)\n",
    "evaluator = MulticlassClassificationEvaluator(labelCol='polarity',predictionCol='prediction',metricName='f1')\n",
    "accuracy = evaluator.evaluate(predictions)\n",
    "print(\"Accuracy:\", accuracy)"
   ]
  },
  {
   "cell_type": "code",
   "execution_count": 43,
   "id": "3f98abe6-bc24-4f90-ad52-77d8e5ffab99",
   "metadata": {},
   "outputs": [
    {
     "name": "stdout",
     "output_type": "stream",
     "text": [
      "root\n",
      " |-- text: string (nullable = true)\n",
      " |-- polarity: integer (nullable = true)\n",
      " |-- document: array (nullable = true)\n",
      " |    |-- element: struct (containsNull = true)\n",
      " |    |    |-- annotatorType: string (nullable = true)\n",
      " |    |    |-- begin: integer (nullable = false)\n",
      " |    |    |-- end: integer (nullable = false)\n",
      " |    |    |-- result: string (nullable = true)\n",
      " |    |    |-- metadata: map (nullable = true)\n",
      " |    |    |    |-- key: string\n",
      " |    |    |    |-- value: string (valueContainsNull = true)\n",
      " |    |    |-- embeddings: array (nullable = true)\n",
      " |    |    |    |-- element: float (containsNull = false)\n",
      " |-- token: array (nullable = true)\n",
      " |    |-- element: struct (containsNull = true)\n",
      " |    |    |-- annotatorType: string (nullable = true)\n",
      " |    |    |-- begin: integer (nullable = false)\n",
      " |    |    |-- end: integer (nullable = false)\n",
      " |    |    |-- result: string (nullable = true)\n",
      " |    |    |-- metadata: map (nullable = true)\n",
      " |    |    |    |-- key: string\n",
      " |    |    |    |-- value: string (valueContainsNull = true)\n",
      " |    |    |-- embeddings: array (nullable = true)\n",
      " |    |    |    |-- element: float (containsNull = false)\n",
      " |-- normalized: array (nullable = true)\n",
      " |    |-- element: struct (containsNull = true)\n",
      " |    |    |-- annotatorType: string (nullable = true)\n",
      " |    |    |-- begin: integer (nullable = false)\n",
      " |    |    |-- end: integer (nullable = false)\n",
      " |    |    |-- result: string (nullable = true)\n",
      " |    |    |-- metadata: map (nullable = true)\n",
      " |    |    |    |-- key: string\n",
      " |    |    |    |-- value: string (valueContainsNull = true)\n",
      " |    |    |-- embeddings: array (nullable = true)\n",
      " |    |    |    |-- element: float (containsNull = false)\n",
      " |-- cleanTokens: array (nullable = true)\n",
      " |    |-- element: struct (containsNull = true)\n",
      " |    |    |-- annotatorType: string (nullable = true)\n",
      " |    |    |-- begin: integer (nullable = false)\n",
      " |    |    |-- end: integer (nullable = false)\n",
      " |    |    |-- result: string (nullable = true)\n",
      " |    |    |-- metadata: map (nullable = true)\n",
      " |    |    |    |-- key: string\n",
      " |    |    |    |-- value: string (valueContainsNull = true)\n",
      " |    |    |-- embeddings: array (nullable = true)\n",
      " |    |    |    |-- element: float (containsNull = false)\n",
      " |-- stem: array (nullable = true)\n",
      " |    |-- element: struct (containsNull = true)\n",
      " |    |    |-- annotatorType: string (nullable = true)\n",
      " |    |    |-- begin: integer (nullable = false)\n",
      " |    |    |-- end: integer (nullable = false)\n",
      " |    |    |-- result: string (nullable = true)\n",
      " |    |    |-- metadata: map (nullable = true)\n",
      " |    |    |    |-- key: string\n",
      " |    |    |    |-- value: string (valueContainsNull = true)\n",
      " |    |    |-- embeddings: array (nullable = true)\n",
      " |    |    |    |-- element: float (containsNull = false)\n",
      " |-- token_features: array (nullable = true)\n",
      " |    |-- element: string (containsNull = true)\n",
      " |-- features: vector (nullable = true)\n",
      " |-- rawPrediction: vector (nullable = true)\n",
      " |-- probability: vector (nullable = true)\n",
      " |-- prediction: double (nullable = false)\n",
      "\n"
     ]
    }
   ],
   "source": [
    "predictions.printSchema()"
   ]
  },
  {
   "cell_type": "code",
   "execution_count": 44,
   "id": "24c9dad9-6e00-43d8-8ee4-8a860a80975d",
   "metadata": {},
   "outputs": [
    {
     "name": "stderr",
     "output_type": "stream",
     "text": [
      "                                                                                \r"
     ]
    }
   ],
   "source": [
    "y_true = predictions.select('polarity')\n",
    "y_true = y_true.toPandas()\n",
    "y_pred = predictions.select('prediction')\n",
    "y_pred = y_pred.toPandas()"
   ]
  },
  {
   "cell_type": "code",
   "execution_count": 45,
   "id": "ab74ab96-9228-46fd-bfb6-eddde23a5121",
   "metadata": {},
   "outputs": [
    {
     "name": "stdout",
     "output_type": "stream",
     "text": [
      "              precision    recall  f1-score   support\n",
      "\n",
      "           0       0.80      0.87      0.83      9032\n",
      "           1       0.85      0.82      0.83     11262\n",
      "           2       0.79      0.74      0.76      7001\n",
      "\n",
      "    accuracy                           0.82     27295\n",
      "   macro avg       0.81      0.81      0.81     27295\n",
      "weighted avg       0.82      0.82      0.81     27295\n",
      "\n"
     ]
    }
   ],
   "source": [
    "# Classication Report\n",
    "print(classification_report(y_true,y_pred))"
   ]
  },
  {
   "cell_type": "code",
   "execution_count": 22,
   "id": "894192ff-580d-400a-b70d-9030db08855e",
   "metadata": {},
   "outputs": [
    {
     "name": "stderr",
     "output_type": "stream",
     "text": [
      "                                                                                \r"
     ]
    }
   ],
   "source": [
    "# persisting the model\n",
    "optModel_js.write().overwrite().save('pipeline_lr_js_model')"
   ]
  },
  {
   "cell_type": "code",
   "execution_count": 23,
   "id": "a3a31241-2d5f-406f-853c-9dc3d04d1388",
   "metadata": {},
   "outputs": [],
   "source": [
    "spark.stop()"
   ]
  },
  {
   "cell_type": "code",
   "execution_count": null,
   "id": "543aba08-6b28-4239-9503-42b473767f29",
   "metadata": {},
   "outputs": [],
   "source": []
  }
 ],
 "metadata": {
  "interpreter": {
   "hash": "036bbbcbeb7e557e6289ced1556fff2ae45b9e655d9b58e192c5449d011724cf"
  },
  "kernelspec": {
   "display_name": "Python 3 (ipykernel)",
   "language": "python",
   "name": "python3"
  },
  "language_info": {
   "codemirror_mode": {
    "name": "ipython",
    "version": 3
   },
   "file_extension": ".py",
   "mimetype": "text/x-python",
   "name": "python",
   "nbconvert_exporter": "python",
   "pygments_lexer": "ipython3",
   "version": "3.9.12"
  }
 },
 "nbformat": 4,
 "nbformat_minor": 5
}
